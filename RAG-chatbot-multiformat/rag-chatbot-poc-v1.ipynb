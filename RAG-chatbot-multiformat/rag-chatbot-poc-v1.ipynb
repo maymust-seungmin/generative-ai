{
 "cells": [
  {
   "cell_type": "markdown",
   "id": "d7dc7e39-dd9a-43e3-8d9a-f77af583004c",
   "metadata": {},
   "source": [
    "### Dell Technologies Proof of Concept - RAG chatbot with multi format data CSV, PDF, PPT with sources tabs and RAG toggle 4bit\n",
    "- Model:  Mistral 7B\n",
    "- Vector database:  Chroma db\n",
    "- Chain:  Langchain retrievalQAchain, huggingface pipeline\n",
    "- GUI:  Gradio interface (not with blocks)\n",
    "- Workload:  CSV, PPT and PDF files\n",
    "- Quantized to 4 bit\n",
    "\n",
    "Features in Additional Inputs:\n",
    "- Change persona ad hoc with adjustable system prompt\n",
    "- Change model parameters with sliders (temp., top-p, top-k, max_tokens)\n",
    "- Memory is intact and conversational using chat_history key\n",
    "- Create all types of content such as email, product description, product comparison tables etc.\n",
    "- Directly query / summarize a document given the title\n",
    "\n",
    "Note: The software and sample files are provided “as is” and are to be used only in conjunction with this POC application. They should not be used in production and are provided without warranty or guarantees. Please use them at your own discretion."
   ]
  },
  {
   "cell_type": "markdown",
   "id": "e2ef99d2-76ef-45c1-af70-bda234cb8fed",
   "metadata": {},
   "source": [
    "<img src=\"images/RAG-diagram-dell-technologies.png\" alt=\"Alternative text\" />"
   ]
  },
  {
   "cell_type": "markdown",
   "id": "a5902ec6",
   "metadata": {},
   "source": [
    "### Huggingface tools\n",
    "\n",
    "You will need to at least log in once to get the hub for tools and the embedding model.  After that you can comment this section out."
   ]
  },
  {
   "cell_type": "code",
   "execution_count": 1,
   "id": "89d4d542-e238-4948-ade3-efb972c78cd1",
   "metadata": {},
   "outputs": [
    {
     "name": "stdout",
     "output_type": "stream",
     "text": [
      "Requirement already satisfied: huggingface-hub==0.23.0 in /home/demo/miniconda3/envs/rag/lib/python3.10/site-packages (0.23.0)\n",
      "Requirement already satisfied: filelock in /home/demo/miniconda3/envs/rag/lib/python3.10/site-packages (from huggingface-hub==0.23.0) (3.13.1)\n",
      "Requirement already satisfied: fsspec>=2023.5.0 in /home/demo/miniconda3/envs/rag/lib/python3.10/site-packages (from huggingface-hub==0.23.0) (2023.10.0)\n",
      "Requirement already satisfied: packaging>=20.9 in /home/demo/miniconda3/envs/rag/lib/python3.10/site-packages (from huggingface-hub==0.23.0) (23.2)\n",
      "Requirement already satisfied: pyyaml>=5.1 in /home/demo/miniconda3/envs/rag/lib/python3.10/site-packages (from huggingface-hub==0.23.0) (6.0.1)\n",
      "Requirement already satisfied: requests in /home/demo/miniconda3/envs/rag/lib/python3.10/site-packages (from huggingface-hub==0.23.0) (2.31.0)\n",
      "Requirement already satisfied: tqdm>=4.42.1 in /home/demo/miniconda3/envs/rag/lib/python3.10/site-packages (from huggingface-hub==0.23.0) (4.66.2)\n",
      "Requirement already satisfied: typing-extensions>=3.7.4.3 in /home/demo/miniconda3/envs/rag/lib/python3.10/site-packages (from huggingface-hub==0.23.0) (4.9.0)\n",
      "Requirement already satisfied: charset-normalizer<4,>=2 in /home/demo/miniconda3/envs/rag/lib/python3.10/site-packages (from requests->huggingface-hub==0.23.0) (3.3.2)\n",
      "Requirement already satisfied: idna<4,>=2.5 in /home/demo/miniconda3/envs/rag/lib/python3.10/site-packages (from requests->huggingface-hub==0.23.0) (3.6)\n",
      "Requirement already satisfied: urllib3<3,>=1.21.1 in /home/demo/miniconda3/envs/rag/lib/python3.10/site-packages (from requests->huggingface-hub==0.23.0) (2.2.1)\n",
      "Requirement already satisfied: certifi>=2017.4.17 in /home/demo/miniconda3/envs/rag/lib/python3.10/site-packages (from requests->huggingface-hub==0.23.0) (2024.2.2)\n",
      "Note: you may need to restart the kernel to use updated packages.\n",
      "Token is valid (permission: read).\n",
      "Your token has been saved in your configured git credential helpers (store).\n",
      "Your token has been saved to /home/demo/.cache/huggingface/token\n",
      "Login successful\n"
     ]
    }
   ],
   "source": [
    "## code to auto login to hugging face, avoid the login prompt\n",
    "# %pip install huggingface-hub==0.16.4\n",
    "%pip install huggingface-hub==0.23.0\n",
    "\n",
    "# get your account token from https://huggingface.co/settings/tokens\n",
    "# this is a read-only test token\n",
    "\n",
    "token = 'YOUR_TOKEN'\n",
    "\n",
    "from huggingface_hub import login\n",
    "login(token=token, add_to_git_credential=True)"
   ]
  },
  {
   "cell_type": "markdown",
   "id": "374ef44c-9f78-42de-9535-a47b9f8b7889",
   "metadata": {},
   "source": [
    "### Install python libraries and applications\n",
    "\n",
    "Using % to ensure installation into this conda environment and not OS python"
   ]
  },
  {
   "cell_type": "code",
   "execution_count": 2,
   "id": "5ac77491-212f-450d-ae73-2448c3422379",
   "metadata": {},
   "outputs": [
    {
     "name": "stdout",
     "output_type": "stream",
     "text": [
      "Requirement already satisfied: accelerate==0.24.1 in /home/demo/miniconda3/envs/rag/lib/python3.10/site-packages (0.24.1)\n",
      "Requirement already satisfied: numpy>=1.17 in /home/demo/miniconda3/envs/rag/lib/python3.10/site-packages (from accelerate==0.24.1) (1.26.4)\n",
      "Requirement already satisfied: packaging>=20.0 in /home/demo/miniconda3/envs/rag/lib/python3.10/site-packages (from accelerate==0.24.1) (23.2)\n",
      "Requirement already satisfied: psutil in /home/demo/miniconda3/envs/rag/lib/python3.10/site-packages (from accelerate==0.24.1) (5.9.5)\n",
      "Requirement already satisfied: pyyaml in /home/demo/miniconda3/envs/rag/lib/python3.10/site-packages (from accelerate==0.24.1) (6.0.1)\n",
      "Requirement already satisfied: torch>=1.10.0 in /home/demo/miniconda3/envs/rag/lib/python3.10/site-packages (from accelerate==0.24.1) (2.1.0)\n",
      "Requirement already satisfied: huggingface-hub in /home/demo/miniconda3/envs/rag/lib/python3.10/site-packages (from accelerate==0.24.1) (0.23.0)\n",
      "Requirement already satisfied: filelock in /home/demo/miniconda3/envs/rag/lib/python3.10/site-packages (from torch>=1.10.0->accelerate==0.24.1) (3.13.1)\n",
      "Requirement already satisfied: typing-extensions in /home/demo/miniconda3/envs/rag/lib/python3.10/site-packages (from torch>=1.10.0->accelerate==0.24.1) (4.9.0)\n",
      "Requirement already satisfied: sympy in /home/demo/miniconda3/envs/rag/lib/python3.10/site-packages (from torch>=1.10.0->accelerate==0.24.1) (1.12)\n",
      "Requirement already satisfied: networkx in /home/demo/miniconda3/envs/rag/lib/python3.10/site-packages (from torch>=1.10.0->accelerate==0.24.1) (3.2.1)\n",
      "Requirement already satisfied: jinja2 in /home/demo/miniconda3/envs/rag/lib/python3.10/site-packages (from torch>=1.10.0->accelerate==0.24.1) (3.1.2)\n",
      "Requirement already satisfied: fsspec in /home/demo/miniconda3/envs/rag/lib/python3.10/site-packages (from torch>=1.10.0->accelerate==0.24.1) (2023.10.0)\n",
      "Requirement already satisfied: nvidia-cuda-nvrtc-cu12==12.1.105 in /home/demo/miniconda3/envs/rag/lib/python3.10/site-packages (from torch>=1.10.0->accelerate==0.24.1) (12.1.105)\n",
      "Requirement already satisfied: nvidia-cuda-runtime-cu12==12.1.105 in /home/demo/miniconda3/envs/rag/lib/python3.10/site-packages (from torch>=1.10.0->accelerate==0.24.1) (12.1.105)\n",
      "Requirement already satisfied: nvidia-cuda-cupti-cu12==12.1.105 in /home/demo/miniconda3/envs/rag/lib/python3.10/site-packages (from torch>=1.10.0->accelerate==0.24.1) (12.1.105)\n",
      "Requirement already satisfied: nvidia-cudnn-cu12==8.9.2.26 in /home/demo/miniconda3/envs/rag/lib/python3.10/site-packages (from torch>=1.10.0->accelerate==0.24.1) (8.9.2.26)\n",
      "Requirement already satisfied: nvidia-cublas-cu12==12.1.3.1 in /home/demo/miniconda3/envs/rag/lib/python3.10/site-packages (from torch>=1.10.0->accelerate==0.24.1) (12.1.3.1)\n",
      "Requirement already satisfied: nvidia-cufft-cu12==11.0.2.54 in /home/demo/miniconda3/envs/rag/lib/python3.10/site-packages (from torch>=1.10.0->accelerate==0.24.1) (11.0.2.54)\n",
      "Requirement already satisfied: nvidia-curand-cu12==10.3.2.106 in /home/demo/miniconda3/envs/rag/lib/python3.10/site-packages (from torch>=1.10.0->accelerate==0.24.1) (10.3.2.106)\n",
      "Requirement already satisfied: nvidia-cusolver-cu12==11.4.5.107 in /home/demo/miniconda3/envs/rag/lib/python3.10/site-packages (from torch>=1.10.0->accelerate==0.24.1) (11.4.5.107)\n",
      "Requirement already satisfied: nvidia-cusparse-cu12==12.1.0.106 in /home/demo/miniconda3/envs/rag/lib/python3.10/site-packages (from torch>=1.10.0->accelerate==0.24.1) (12.1.0.106)\n",
      "Requirement already satisfied: nvidia-nccl-cu12==2.18.1 in /home/demo/miniconda3/envs/rag/lib/python3.10/site-packages (from torch>=1.10.0->accelerate==0.24.1) (2.18.1)\n",
      "Requirement already satisfied: nvidia-nvtx-cu12==12.1.105 in /home/demo/miniconda3/envs/rag/lib/python3.10/site-packages (from torch>=1.10.0->accelerate==0.24.1) (12.1.105)\n",
      "Requirement already satisfied: triton==2.1.0 in /home/demo/miniconda3/envs/rag/lib/python3.10/site-packages (from torch>=1.10.0->accelerate==0.24.1) (2.1.0)\n",
      "Requirement already satisfied: nvidia-nvjitlink-cu12 in /home/demo/miniconda3/envs/rag/lib/python3.10/site-packages (from nvidia-cusolver-cu12==11.4.5.107->torch>=1.10.0->accelerate==0.24.1) (12.3.52)\n",
      "Requirement already satisfied: requests in /home/demo/miniconda3/envs/rag/lib/python3.10/site-packages (from huggingface-hub->accelerate==0.24.1) (2.31.0)\n",
      "Requirement already satisfied: tqdm>=4.42.1 in /home/demo/miniconda3/envs/rag/lib/python3.10/site-packages (from huggingface-hub->accelerate==0.24.1) (4.66.2)\n",
      "Requirement already satisfied: MarkupSafe>=2.0 in /home/demo/miniconda3/envs/rag/lib/python3.10/site-packages (from jinja2->torch>=1.10.0->accelerate==0.24.1) (2.1.3)\n",
      "Requirement already satisfied: charset-normalizer<4,>=2 in /home/demo/miniconda3/envs/rag/lib/python3.10/site-packages (from requests->huggingface-hub->accelerate==0.24.1) (3.3.2)\n",
      "Requirement already satisfied: idna<4,>=2.5 in /home/demo/miniconda3/envs/rag/lib/python3.10/site-packages (from requests->huggingface-hub->accelerate==0.24.1) (3.6)\n",
      "Requirement already satisfied: urllib3<3,>=1.21.1 in /home/demo/miniconda3/envs/rag/lib/python3.10/site-packages (from requests->huggingface-hub->accelerate==0.24.1) (2.2.1)\n",
      "Requirement already satisfied: certifi>=2017.4.17 in /home/demo/miniconda3/envs/rag/lib/python3.10/site-packages (from requests->huggingface-hub->accelerate==0.24.1) (2024.2.2)\n",
      "Requirement already satisfied: mpmath>=0.19 in /home/demo/miniconda3/envs/rag/lib/python3.10/site-packages (from sympy->torch>=1.10.0->accelerate==0.24.1) (1.3.0)\n",
      "Note: you may need to restart the kernel to use updated packages.\n",
      "Requirement already satisfied: transformers==4.37.2 in /home/demo/miniconda3/envs/rag/lib/python3.10/site-packages (4.37.2)\n",
      "Requirement already satisfied: filelock in /home/demo/miniconda3/envs/rag/lib/python3.10/site-packages (from transformers==4.37.2) (3.13.1)\n",
      "Requirement already satisfied: huggingface-hub<1.0,>=0.19.3 in /home/demo/miniconda3/envs/rag/lib/python3.10/site-packages (from transformers==4.37.2) (0.23.0)\n",
      "Requirement already satisfied: numpy>=1.17 in /home/demo/miniconda3/envs/rag/lib/python3.10/site-packages (from transformers==4.37.2) (1.26.4)\n",
      "Requirement already satisfied: packaging>=20.0 in /home/demo/miniconda3/envs/rag/lib/python3.10/site-packages (from transformers==4.37.2) (23.2)\n",
      "Requirement already satisfied: pyyaml>=5.1 in /home/demo/miniconda3/envs/rag/lib/python3.10/site-packages (from transformers==4.37.2) (6.0.1)\n",
      "Requirement already satisfied: regex!=2019.12.17 in /home/demo/miniconda3/envs/rag/lib/python3.10/site-packages (from transformers==4.37.2) (2023.12.25)\n",
      "Requirement already satisfied: requests in /home/demo/miniconda3/envs/rag/lib/python3.10/site-packages (from transformers==4.37.2) (2.31.0)\n",
      "Requirement already satisfied: tokenizers<0.19,>=0.14 in /home/demo/miniconda3/envs/rag/lib/python3.10/site-packages (from transformers==4.37.2) (0.15.2)\n",
      "Requirement already satisfied: safetensors>=0.4.1 in /home/demo/miniconda3/envs/rag/lib/python3.10/site-packages (from transformers==4.37.2) (0.4.2)\n",
      "Requirement already satisfied: tqdm>=4.27 in /home/demo/miniconda3/envs/rag/lib/python3.10/site-packages (from transformers==4.37.2) (4.66.2)\n",
      "Requirement already satisfied: fsspec>=2023.5.0 in /home/demo/miniconda3/envs/rag/lib/python3.10/site-packages (from huggingface-hub<1.0,>=0.19.3->transformers==4.37.2) (2023.10.0)\n",
      "Requirement already satisfied: typing-extensions>=3.7.4.3 in /home/demo/miniconda3/envs/rag/lib/python3.10/site-packages (from huggingface-hub<1.0,>=0.19.3->transformers==4.37.2) (4.9.0)\n",
      "Requirement already satisfied: charset-normalizer<4,>=2 in /home/demo/miniconda3/envs/rag/lib/python3.10/site-packages (from requests->transformers==4.37.2) (3.3.2)\n",
      "Requirement already satisfied: idna<4,>=2.5 in /home/demo/miniconda3/envs/rag/lib/python3.10/site-packages (from requests->transformers==4.37.2) (3.6)\n",
      "Requirement already satisfied: urllib3<3,>=1.21.1 in /home/demo/miniconda3/envs/rag/lib/python3.10/site-packages (from requests->transformers==4.37.2) (2.2.1)\n",
      "Requirement already satisfied: certifi>=2017.4.17 in /home/demo/miniconda3/envs/rag/lib/python3.10/site-packages (from requests->transformers==4.37.2) (2024.2.2)\n",
      "Note: you may need to restart the kernel to use updated packages.\n"
     ]
    },
    {
     "name": "stdout",
     "output_type": "stream",
     "text": [
      "Requirement already satisfied: langchain==0.1.16 in /home/demo/miniconda3/envs/rag/lib/python3.10/site-packages (0.1.16)\n",
      "Requirement already satisfied: PyYAML>=5.3 in /home/demo/miniconda3/envs/rag/lib/python3.10/site-packages (from langchain==0.1.16) (6.0.1)\n",
      "Requirement already satisfied: SQLAlchemy<3,>=1.4 in /home/demo/miniconda3/envs/rag/lib/python3.10/site-packages (from langchain==0.1.16) (2.0.23)\n",
      "Requirement already satisfied: aiohttp<4.0.0,>=3.8.3 in /home/demo/miniconda3/envs/rag/lib/python3.10/site-packages (from langchain==0.1.16) (3.8.6)\n",
      "Requirement already satisfied: async-timeout<5.0.0,>=4.0.0 in /home/demo/miniconda3/envs/rag/lib/python3.10/site-packages (from langchain==0.1.16) (4.0.3)\n",
      "Requirement already satisfied: dataclasses-json<0.7,>=0.5.7 in /home/demo/miniconda3/envs/rag/lib/python3.10/site-packages (from langchain==0.1.16) (0.6.4)\n",
      "Requirement already satisfied: jsonpatch<2.0,>=1.33 in /home/demo/miniconda3/envs/rag/lib/python3.10/site-packages (from langchain==0.1.16) (1.33)\n",
      "Requirement already satisfied: langchain-community<0.1,>=0.0.32 in /home/demo/miniconda3/envs/rag/lib/python3.10/site-packages (from langchain==0.1.16) (0.0.33)\n",
      "Requirement already satisfied: langchain-core<0.2.0,>=0.1.42 in /home/demo/miniconda3/envs/rag/lib/python3.10/site-packages (from langchain==0.1.16) (0.1.44)\n",
      "Requirement already satisfied: langchain-text-splitters<0.1,>=0.0.1 in /home/demo/miniconda3/envs/rag/lib/python3.10/site-packages (from langchain==0.1.16) (0.0.1)\n",
      "Requirement already satisfied: langsmith<0.2.0,>=0.1.17 in /home/demo/miniconda3/envs/rag/lib/python3.10/site-packages (from langchain==0.1.16) (0.1.48)\n",
      "Requirement already satisfied: numpy<2,>=1 in /home/demo/miniconda3/envs/rag/lib/python3.10/site-packages (from langchain==0.1.16) (1.26.4)\n",
      "Requirement already satisfied: pydantic<3,>=1 in /home/demo/miniconda3/envs/rag/lib/python3.10/site-packages (from langchain==0.1.16) (2.7.0)\n",
      "Requirement already satisfied: requests<3,>=2 in /home/demo/miniconda3/envs/rag/lib/python3.10/site-packages (from langchain==0.1.16) (2.31.0)\n",
      "Requirement already satisfied: tenacity<9.0.0,>=8.1.0 in /home/demo/miniconda3/envs/rag/lib/python3.10/site-packages (from langchain==0.1.16) (8.2.3)\n",
      "Requirement already satisfied: attrs>=17.3.0 in /home/demo/miniconda3/envs/rag/lib/python3.10/site-packages (from aiohttp<4.0.0,>=3.8.3->langchain==0.1.16) (23.1.0)\n",
      "Requirement already satisfied: charset-normalizer<4.0,>=2.0 in /home/demo/miniconda3/envs/rag/lib/python3.10/site-packages (from aiohttp<4.0.0,>=3.8.3->langchain==0.1.16) (3.3.2)\n",
      "Requirement already satisfied: multidict<7.0,>=4.5 in /home/demo/miniconda3/envs/rag/lib/python3.10/site-packages (from aiohttp<4.0.0,>=3.8.3->langchain==0.1.16) (6.0.4)\n",
      "Requirement already satisfied: yarl<2.0,>=1.0 in /home/demo/miniconda3/envs/rag/lib/python3.10/site-packages (from aiohttp<4.0.0,>=3.8.3->langchain==0.1.16) (1.9.2)\n",
      "Requirement already satisfied: frozenlist>=1.1.1 in /home/demo/miniconda3/envs/rag/lib/python3.10/site-packages (from aiohttp<4.0.0,>=3.8.3->langchain==0.1.16) (1.4.0)\n",
      "Requirement already satisfied: aiosignal>=1.1.2 in /home/demo/miniconda3/envs/rag/lib/python3.10/site-packages (from aiohttp<4.0.0,>=3.8.3->langchain==0.1.16) (1.3.1)\n",
      "Requirement already satisfied: marshmallow<4.0.0,>=3.18.0 in /home/demo/miniconda3/envs/rag/lib/python3.10/site-packages (from dataclasses-json<0.7,>=0.5.7->langchain==0.1.16) (3.20.2)\n",
      "Requirement already satisfied: typing-inspect<1,>=0.4.0 in /home/demo/miniconda3/envs/rag/lib/python3.10/site-packages (from dataclasses-json<0.7,>=0.5.7->langchain==0.1.16) (0.9.0)\n",
      "Requirement already satisfied: jsonpointer>=1.9 in /home/demo/miniconda3/envs/rag/lib/python3.10/site-packages (from jsonpatch<2.0,>=1.33->langchain==0.1.16) (2.4)\n",
      "Requirement already satisfied: packaging<24.0,>=23.2 in /home/demo/miniconda3/envs/rag/lib/python3.10/site-packages (from langchain-core<0.2.0,>=0.1.42->langchain==0.1.16) (23.2)\n",
      "Requirement already satisfied: orjson<4.0.0,>=3.9.14 in /home/demo/miniconda3/envs/rag/lib/python3.10/site-packages (from langsmith<0.2.0,>=0.1.17->langchain==0.1.16) (3.10.1)\n",
      "Requirement already satisfied: annotated-types>=0.4.0 in /home/demo/miniconda3/envs/rag/lib/python3.10/site-packages (from pydantic<3,>=1->langchain==0.1.16) (0.6.0)\n",
      "Requirement already satisfied: pydantic-core==2.18.1 in /home/demo/miniconda3/envs/rag/lib/python3.10/site-packages (from pydantic<3,>=1->langchain==0.1.16) (2.18.1)\n",
      "Requirement already satisfied: typing-extensions>=4.6.1 in /home/demo/miniconda3/envs/rag/lib/python3.10/site-packages (from pydantic<3,>=1->langchain==0.1.16) (4.9.0)\n",
      "Requirement already satisfied: idna<4,>=2.5 in /home/demo/miniconda3/envs/rag/lib/python3.10/site-packages (from requests<3,>=2->langchain==0.1.16) (3.6)\n",
      "Requirement already satisfied: urllib3<3,>=1.21.1 in /home/demo/miniconda3/envs/rag/lib/python3.10/site-packages (from requests<3,>=2->langchain==0.1.16) (2.2.1)\n",
      "Requirement already satisfied: certifi>=2017.4.17 in /home/demo/miniconda3/envs/rag/lib/python3.10/site-packages (from requests<3,>=2->langchain==0.1.16) (2024.2.2)\n",
      "Requirement already satisfied: greenlet!=0.4.17 in /home/demo/miniconda3/envs/rag/lib/python3.10/site-packages (from SQLAlchemy<3,>=1.4->langchain==0.1.16) (3.0.1)\n",
      "Requirement already satisfied: mypy-extensions>=0.3.0 in /home/demo/miniconda3/envs/rag/lib/python3.10/site-packages (from typing-inspect<1,>=0.4.0->dataclasses-json<0.7,>=0.5.7->langchain==0.1.16) (1.0.0)\n",
      "Note: you may need to restart the kernel to use updated packages.\n",
      "Requirement already satisfied: chromadb==0.4.24 in /home/demo/miniconda3/envs/rag/lib/python3.10/site-packages (0.4.24)\n",
      "Requirement already satisfied: build>=1.0.3 in /home/demo/miniconda3/envs/rag/lib/python3.10/site-packages (from chromadb==0.4.24) (1.2.1)\n",
      "Requirement already satisfied: requests>=2.28 in /home/demo/miniconda3/envs/rag/lib/python3.10/site-packages (from chromadb==0.4.24) (2.31.0)\n",
      "Requirement already satisfied: pydantic>=1.9 in /home/demo/miniconda3/envs/rag/lib/python3.10/site-packages (from chromadb==0.4.24) (2.7.0)\n",
      "Requirement already satisfied: chroma-hnswlib==0.7.3 in /home/demo/miniconda3/envs/rag/lib/python3.10/site-packages (from chromadb==0.4.24) (0.7.3)\n",
      "Requirement already satisfied: fastapi>=0.95.2 in /home/demo/miniconda3/envs/rag/lib/python3.10/site-packages (from chromadb==0.4.24) (0.110.1)\n",
      "Requirement already satisfied: uvicorn>=0.18.3 in /home/demo/miniconda3/envs/rag/lib/python3.10/site-packages (from uvicorn[standard]>=0.18.3->chromadb==0.4.24) (0.24.0.post1)\n",
      "Requirement already satisfied: numpy>=1.22.5 in /home/demo/miniconda3/envs/rag/lib/python3.10/site-packages (from chromadb==0.4.24) (1.26.4)\n",
      "Requirement already satisfied: posthog>=2.4.0 in /home/demo/miniconda3/envs/rag/lib/python3.10/site-packages (from chromadb==0.4.24) (3.0.2)\n",
      "Requirement already satisfied: typing-extensions>=4.5.0 in /home/demo/miniconda3/envs/rag/lib/python3.10/site-packages (from chromadb==0.4.24) (4.9.0)\n",
      "Requirement already satisfied: pulsar-client>=3.1.0 in /home/demo/miniconda3/envs/rag/lib/python3.10/site-packages (from chromadb==0.4.24) (3.3.0)\n",
      "Requirement already satisfied: onnxruntime>=1.14.1 in /home/demo/miniconda3/envs/rag/lib/python3.10/site-packages (from chromadb==0.4.24) (1.16.1)\n",
      "Requirement already satisfied: opentelemetry-api>=1.2.0 in /home/demo/miniconda3/envs/rag/lib/python3.10/site-packages (from chromadb==0.4.24) (1.20.0)\n",
      "Requirement already satisfied: opentelemetry-exporter-otlp-proto-grpc>=1.2.0 in /home/demo/miniconda3/envs/rag/lib/python3.10/site-packages (from chromadb==0.4.24) (1.20.0)\n",
      "Requirement already satisfied: opentelemetry-instrumentation-fastapi>=0.41b0 in /home/demo/miniconda3/envs/rag/lib/python3.10/site-packages (from chromadb==0.4.24) (0.41b0)\n",
      "Requirement already satisfied: opentelemetry-sdk>=1.2.0 in /home/demo/miniconda3/envs/rag/lib/python3.10/site-packages (from chromadb==0.4.24) (1.20.0)\n",
      "Requirement already satisfied: tokenizers>=0.13.2 in /home/demo/miniconda3/envs/rag/lib/python3.10/site-packages (from chromadb==0.4.24) (0.15.2)\n",
      "Requirement already satisfied: pypika>=0.48.9 in /home/demo/miniconda3/envs/rag/lib/python3.10/site-packages (from chromadb==0.4.24) (0.48.9)\n",
      "Requirement already satisfied: tqdm>=4.65.0 in /home/demo/miniconda3/envs/rag/lib/python3.10/site-packages (from chromadb==0.4.24) (4.66.2)\n",
      "Requirement already satisfied: overrides>=7.3.1 in /home/demo/miniconda3/envs/rag/lib/python3.10/site-packages (from chromadb==0.4.24) (7.4.0)\n",
      "Requirement already satisfied: importlib-resources in /home/demo/miniconda3/envs/rag/lib/python3.10/site-packages (from chromadb==0.4.24) (6.1.0)\n",
      "Requirement already satisfied: grpcio>=1.58.0 in /home/demo/miniconda3/envs/rag/lib/python3.10/site-packages (from chromadb==0.4.24) (1.59.2)\n",
      "Requirement already satisfied: bcrypt>=4.0.1 in /home/demo/miniconda3/envs/rag/lib/python3.10/site-packages (from chromadb==0.4.24) (4.0.1)\n",
      "Requirement already satisfied: typer>=0.9.0 in /home/demo/miniconda3/envs/rag/lib/python3.10/site-packages (from chromadb==0.4.24) (0.12.3)\n",
      "Requirement already satisfied: kubernetes>=28.1.0 in /home/demo/miniconda3/envs/rag/lib/python3.10/site-packages (from chromadb==0.4.24) (29.0.0)\n",
      "Requirement already satisfied: tenacity>=8.2.3 in /home/demo/miniconda3/envs/rag/lib/python3.10/site-packages (from chromadb==0.4.24) (8.2.3)\n",
      "Requirement already satisfied: PyYAML>=6.0.0 in /home/demo/miniconda3/envs/rag/lib/python3.10/site-packages (from chromadb==0.4.24) (6.0.1)\n",
      "Requirement already satisfied: mmh3>=4.0.1 in /home/demo/miniconda3/envs/rag/lib/python3.10/site-packages (from chromadb==0.4.24) (4.1.0)\n",
      "Requirement already satisfied: orjson>=3.9.12 in /home/demo/miniconda3/envs/rag/lib/python3.10/site-packages (from chromadb==0.4.24) (3.10.1)\n",
      "Requirement already satisfied: packaging>=19.1 in /home/demo/miniconda3/envs/rag/lib/python3.10/site-packages (from build>=1.0.3->chromadb==0.4.24) (23.2)\n",
      "Requirement already satisfied: pyproject_hooks in /home/demo/miniconda3/envs/rag/lib/python3.10/site-packages (from build>=1.0.3->chromadb==0.4.24) (1.0.0)\n"
     ]
    },
    {
     "name": "stdout",
     "output_type": "stream",
     "text": [
      "Requirement already satisfied: tomli>=1.1.0 in /home/demo/miniconda3/envs/rag/lib/python3.10/site-packages (from build>=1.0.3->chromadb==0.4.24) (2.0.1)\n",
      "Requirement already satisfied: starlette<0.38.0,>=0.37.2 in /home/demo/miniconda3/envs/rag/lib/python3.10/site-packages (from fastapi>=0.95.2->chromadb==0.4.24) (0.37.2)\n",
      "Requirement already satisfied: certifi>=14.05.14 in /home/demo/miniconda3/envs/rag/lib/python3.10/site-packages (from kubernetes>=28.1.0->chromadb==0.4.24) (2024.2.2)\n",
      "Requirement already satisfied: six>=1.9.0 in /home/demo/miniconda3/envs/rag/lib/python3.10/site-packages (from kubernetes>=28.1.0->chromadb==0.4.24) (1.16.0)\n",
      "Requirement already satisfied: python-dateutil>=2.5.3 in /home/demo/miniconda3/envs/rag/lib/python3.10/site-packages (from kubernetes>=28.1.0->chromadb==0.4.24) (2.8.2)\n",
      "Requirement already satisfied: google-auth>=1.0.1 in /home/demo/miniconda3/envs/rag/lib/python3.10/site-packages (from kubernetes>=28.1.0->chromadb==0.4.24) (2.23.4)\n",
      "Requirement already satisfied: websocket-client!=0.40.0,!=0.41.*,!=0.42.*,>=0.32.0 in /home/demo/miniconda3/envs/rag/lib/python3.10/site-packages (from kubernetes>=28.1.0->chromadb==0.4.24) (1.6.4)\n",
      "Requirement already satisfied: requests-oauthlib in /home/demo/miniconda3/envs/rag/lib/python3.10/site-packages (from kubernetes>=28.1.0->chromadb==0.4.24) (1.3.1)\n",
      "Requirement already satisfied: oauthlib>=3.2.2 in /home/demo/miniconda3/envs/rag/lib/python3.10/site-packages (from kubernetes>=28.1.0->chromadb==0.4.24) (3.2.2)\n",
      "Requirement already satisfied: urllib3>=1.24.2 in /home/demo/miniconda3/envs/rag/lib/python3.10/site-packages (from kubernetes>=28.1.0->chromadb==0.4.24) (2.2.1)\n",
      "Requirement already satisfied: coloredlogs in /home/demo/miniconda3/envs/rag/lib/python3.10/site-packages (from onnxruntime>=1.14.1->chromadb==0.4.24) (15.0.1)\n",
      "Requirement already satisfied: flatbuffers in /home/demo/miniconda3/envs/rag/lib/python3.10/site-packages (from onnxruntime>=1.14.1->chromadb==0.4.24) (23.5.26)\n",
      "Requirement already satisfied: protobuf in /home/demo/miniconda3/envs/rag/lib/python3.10/site-packages (from onnxruntime>=1.14.1->chromadb==0.4.24) (4.25.0)\n",
      "Requirement already satisfied: sympy in /home/demo/miniconda3/envs/rag/lib/python3.10/site-packages (from onnxruntime>=1.14.1->chromadb==0.4.24) (1.12)\n",
      "Requirement already satisfied: deprecated>=1.2.6 in /home/demo/miniconda3/envs/rag/lib/python3.10/site-packages (from opentelemetry-api>=1.2.0->chromadb==0.4.24) (1.2.14)\n",
      "Requirement already satisfied: importlib-metadata<7.0,>=6.0 in /home/demo/miniconda3/envs/rag/lib/python3.10/site-packages (from opentelemetry-api>=1.2.0->chromadb==0.4.24) (6.8.0)\n",
      "Requirement already satisfied: backoff<3.0.0,>=1.10.0 in /home/demo/miniconda3/envs/rag/lib/python3.10/site-packages (from opentelemetry-exporter-otlp-proto-grpc>=1.2.0->chromadb==0.4.24) (2.2.1)\n",
      "Requirement already satisfied: googleapis-common-protos~=1.52 in /home/demo/miniconda3/envs/rag/lib/python3.10/site-packages (from opentelemetry-exporter-otlp-proto-grpc>=1.2.0->chromadb==0.4.24) (1.61.0)\n",
      "Requirement already satisfied: opentelemetry-exporter-otlp-proto-common==1.20.0 in /home/demo/miniconda3/envs/rag/lib/python3.10/site-packages (from opentelemetry-exporter-otlp-proto-grpc>=1.2.0->chromadb==0.4.24) (1.20.0)\n",
      "Requirement already satisfied: opentelemetry-proto==1.20.0 in /home/demo/miniconda3/envs/rag/lib/python3.10/site-packages (from opentelemetry-exporter-otlp-proto-grpc>=1.2.0->chromadb==0.4.24) (1.20.0)\n",
      "Requirement already satisfied: opentelemetry-instrumentation-asgi==0.41b0 in /home/demo/miniconda3/envs/rag/lib/python3.10/site-packages (from opentelemetry-instrumentation-fastapi>=0.41b0->chromadb==0.4.24) (0.41b0)\n",
      "Requirement already satisfied: opentelemetry-instrumentation==0.41b0 in /home/demo/miniconda3/envs/rag/lib/python3.10/site-packages (from opentelemetry-instrumentation-fastapi>=0.41b0->chromadb==0.4.24) (0.41b0)\n",
      "Requirement already satisfied: opentelemetry-semantic-conventions==0.41b0 in /home/demo/miniconda3/envs/rag/lib/python3.10/site-packages (from opentelemetry-instrumentation-fastapi>=0.41b0->chromadb==0.4.24) (0.41b0)\n",
      "Requirement already satisfied: opentelemetry-util-http==0.41b0 in /home/demo/miniconda3/envs/rag/lib/python3.10/site-packages (from opentelemetry-instrumentation-fastapi>=0.41b0->chromadb==0.4.24) (0.41b0)\n",
      "Requirement already satisfied: setuptools>=16.0 in /home/demo/miniconda3/envs/rag/lib/python3.10/site-packages (from opentelemetry-instrumentation==0.41b0->opentelemetry-instrumentation-fastapi>=0.41b0->chromadb==0.4.24) (68.2.2)\n",
      "Requirement already satisfied: wrapt<2.0.0,>=1.0.0 in /home/demo/miniconda3/envs/rag/lib/python3.10/site-packages (from opentelemetry-instrumentation==0.41b0->opentelemetry-instrumentation-fastapi>=0.41b0->chromadb==0.4.24) (1.16.0)\n",
      "Requirement already satisfied: asgiref~=3.0 in /home/demo/miniconda3/envs/rag/lib/python3.10/site-packages (from opentelemetry-instrumentation-asgi==0.41b0->opentelemetry-instrumentation-fastapi>=0.41b0->chromadb==0.4.24) (3.8.1)\n",
      "Requirement already satisfied: monotonic>=1.5 in /home/demo/miniconda3/envs/rag/lib/python3.10/site-packages (from posthog>=2.4.0->chromadb==0.4.24) (1.6)\n",
      "Requirement already satisfied: annotated-types>=0.4.0 in /home/demo/miniconda3/envs/rag/lib/python3.10/site-packages (from pydantic>=1.9->chromadb==0.4.24) (0.6.0)\n",
      "Requirement already satisfied: pydantic-core==2.18.1 in /home/demo/miniconda3/envs/rag/lib/python3.10/site-packages (from pydantic>=1.9->chromadb==0.4.24) (2.18.1)\n",
      "Requirement already satisfied: charset-normalizer<4,>=2 in /home/demo/miniconda3/envs/rag/lib/python3.10/site-packages (from requests>=2.28->chromadb==0.4.24) (3.3.2)\n",
      "Requirement already satisfied: idna<4,>=2.5 in /home/demo/miniconda3/envs/rag/lib/python3.10/site-packages (from requests>=2.28->chromadb==0.4.24) (3.6)\n",
      "Requirement already satisfied: huggingface_hub<1.0,>=0.16.4 in /home/demo/miniconda3/envs/rag/lib/python3.10/site-packages (from tokenizers>=0.13.2->chromadb==0.4.24) (0.23.0)\n",
      "Requirement already satisfied: click>=8.0.0 in /home/demo/miniconda3/envs/rag/lib/python3.10/site-packages (from typer>=0.9.0->chromadb==0.4.24) (8.1.7)\n",
      "Requirement already satisfied: shellingham>=1.3.0 in /home/demo/miniconda3/envs/rag/lib/python3.10/site-packages (from typer>=0.9.0->chromadb==0.4.24) (1.5.4)\n",
      "Requirement already satisfied: rich>=10.11.0 in /home/demo/miniconda3/envs/rag/lib/python3.10/site-packages (from typer>=0.9.0->chromadb==0.4.24) (13.6.0)\n",
      "Requirement already satisfied: h11>=0.8 in /home/demo/miniconda3/envs/rag/lib/python3.10/site-packages (from uvicorn>=0.18.3->uvicorn[standard]>=0.18.3->chromadb==0.4.24) (0.14.0)\n",
      "Requirement already satisfied: httptools>=0.5.0 in /home/demo/miniconda3/envs/rag/lib/python3.10/site-packages (from uvicorn[standard]>=0.18.3->chromadb==0.4.24) (0.6.1)\n",
      "Requirement already satisfied: python-dotenv>=0.13 in /home/demo/miniconda3/envs/rag/lib/python3.10/site-packages (from uvicorn[standard]>=0.18.3->chromadb==0.4.24) (1.0.0)\n",
      "Requirement already satisfied: uvloop!=0.15.0,!=0.15.1,>=0.14.0 in /home/demo/miniconda3/envs/rag/lib/python3.10/site-packages (from uvicorn[standard]>=0.18.3->chromadb==0.4.24) (0.19.0)\n",
      "Requirement already satisfied: watchfiles>=0.13 in /home/demo/miniconda3/envs/rag/lib/python3.10/site-packages (from uvicorn[standard]>=0.18.3->chromadb==0.4.24) (0.21.0)\n",
      "Requirement already satisfied: websockets>=10.4 in /home/demo/miniconda3/envs/rag/lib/python3.10/site-packages (from uvicorn[standard]>=0.18.3->chromadb==0.4.24) (11.0.3)\n",
      "Requirement already satisfied: cachetools<6.0,>=2.0.0 in /home/demo/miniconda3/envs/rag/lib/python3.10/site-packages (from google-auth>=1.0.1->kubernetes>=28.1.0->chromadb==0.4.24) (5.3.2)\n",
      "Requirement already satisfied: pyasn1-modules>=0.2.1 in /home/demo/miniconda3/envs/rag/lib/python3.10/site-packages (from google-auth>=1.0.1->kubernetes>=28.1.0->chromadb==0.4.24) (0.3.0)\n",
      "Requirement already satisfied: rsa<5,>=3.1.4 in /home/demo/miniconda3/envs/rag/lib/python3.10/site-packages (from google-auth>=1.0.1->kubernetes>=28.1.0->chromadb==0.4.24) (4.9)\n",
      "Requirement already satisfied: filelock in /home/demo/miniconda3/envs/rag/lib/python3.10/site-packages (from huggingface_hub<1.0,>=0.16.4->tokenizers>=0.13.2->chromadb==0.4.24) (3.13.1)\n",
      "Requirement already satisfied: fsspec>=2023.5.0 in /home/demo/miniconda3/envs/rag/lib/python3.10/site-packages (from huggingface_hub<1.0,>=0.16.4->tokenizers>=0.13.2->chromadb==0.4.24) (2023.10.0)\n",
      "Requirement already satisfied: zipp>=0.5 in /home/demo/miniconda3/envs/rag/lib/python3.10/site-packages (from importlib-metadata<7.0,>=6.0->opentelemetry-api>=1.2.0->chromadb==0.4.24) (3.17.0)\n"
     ]
    },
    {
     "name": "stdout",
     "output_type": "stream",
     "text": [
      "Requirement already satisfied: markdown-it-py>=2.2.0 in /home/demo/miniconda3/envs/rag/lib/python3.10/site-packages (from rich>=10.11.0->typer>=0.9.0->chromadb==0.4.24) (3.0.0)\n",
      "Requirement already satisfied: pygments<3.0.0,>=2.13.0 in /home/demo/miniconda3/envs/rag/lib/python3.10/site-packages (from rich>=10.11.0->typer>=0.9.0->chromadb==0.4.24) (2.16.1)\n",
      "Requirement already satisfied: anyio<5,>=3.4.0 in /home/demo/miniconda3/envs/rag/lib/python3.10/site-packages (from starlette<0.38.0,>=0.37.2->fastapi>=0.95.2->chromadb==0.4.24) (3.7.1)\n",
      "Requirement already satisfied: humanfriendly>=9.1 in /home/demo/miniconda3/envs/rag/lib/python3.10/site-packages (from coloredlogs->onnxruntime>=1.14.1->chromadb==0.4.24) (10.0)\n",
      "Requirement already satisfied: mpmath>=0.19 in /home/demo/miniconda3/envs/rag/lib/python3.10/site-packages (from sympy->onnxruntime>=1.14.1->chromadb==0.4.24) (1.3.0)\n",
      "Requirement already satisfied: sniffio>=1.1 in /home/demo/miniconda3/envs/rag/lib/python3.10/site-packages (from anyio<5,>=3.4.0->starlette<0.38.0,>=0.37.2->fastapi>=0.95.2->chromadb==0.4.24) (1.3.0)\n",
      "Requirement already satisfied: exceptiongroup in /home/demo/miniconda3/envs/rag/lib/python3.10/site-packages (from anyio<5,>=3.4.0->starlette<0.38.0,>=0.37.2->fastapi>=0.95.2->chromadb==0.4.24) (1.1.3)\n",
      "Requirement already satisfied: mdurl~=0.1 in /home/demo/miniconda3/envs/rag/lib/python3.10/site-packages (from markdown-it-py>=2.2.0->rich>=10.11.0->typer>=0.9.0->chromadb==0.4.24) (0.1.2)\n",
      "Requirement already satisfied: pyasn1<0.6.0,>=0.4.6 in /home/demo/miniconda3/envs/rag/lib/python3.10/site-packages (from pyasn1-modules>=0.2.1->google-auth>=1.0.1->kubernetes>=28.1.0->chromadb==0.4.24) (0.5.0)\n",
      "Note: you may need to restart the kernel to use updated packages.\n",
      "Requirement already satisfied: fastapi==0.110.1 in /home/demo/miniconda3/envs/rag/lib/python3.10/site-packages (0.110.1)\n",
      "Requirement already satisfied: pydantic!=1.8,!=1.8.1,!=2.0.0,!=2.0.1,!=2.1.0,<3.0.0,>=1.7.4 in /home/demo/miniconda3/envs/rag/lib/python3.10/site-packages (from fastapi==0.110.1) (2.7.0)\n",
      "Requirement already satisfied: starlette<0.38.0,>=0.37.2 in /home/demo/miniconda3/envs/rag/lib/python3.10/site-packages (from fastapi==0.110.1) (0.37.2)\n",
      "Requirement already satisfied: typing-extensions>=4.8.0 in /home/demo/miniconda3/envs/rag/lib/python3.10/site-packages (from fastapi==0.110.1) (4.9.0)\n",
      "Requirement already satisfied: annotated-types>=0.4.0 in /home/demo/miniconda3/envs/rag/lib/python3.10/site-packages (from pydantic!=1.8,!=1.8.1,!=2.0.0,!=2.0.1,!=2.1.0,<3.0.0,>=1.7.4->fastapi==0.110.1) (0.6.0)\n",
      "Requirement already satisfied: pydantic-core==2.18.1 in /home/demo/miniconda3/envs/rag/lib/python3.10/site-packages (from pydantic!=1.8,!=1.8.1,!=2.0.0,!=2.0.1,!=2.1.0,<3.0.0,>=1.7.4->fastapi==0.110.1) (2.18.1)\n",
      "Requirement already satisfied: anyio<5,>=3.4.0 in /home/demo/miniconda3/envs/rag/lib/python3.10/site-packages (from starlette<0.38.0,>=0.37.2->fastapi==0.110.1) (3.7.1)\n",
      "Requirement already satisfied: idna>=2.8 in /home/demo/miniconda3/envs/rag/lib/python3.10/site-packages (from anyio<5,>=3.4.0->starlette<0.38.0,>=0.37.2->fastapi==0.110.1) (3.6)\n",
      "Requirement already satisfied: sniffio>=1.1 in /home/demo/miniconda3/envs/rag/lib/python3.10/site-packages (from anyio<5,>=3.4.0->starlette<0.38.0,>=0.37.2->fastapi==0.110.1) (1.3.0)\n",
      "Requirement already satisfied: exceptiongroup in /home/demo/miniconda3/envs/rag/lib/python3.10/site-packages (from anyio<5,>=3.4.0->starlette<0.38.0,>=0.37.2->fastapi==0.110.1) (1.1.3)\n",
      "Note: you may need to restart the kernel to use updated packages.\n",
      "Requirement already satisfied: pypdf==3.17.0 in /home/demo/miniconda3/envs/rag/lib/python3.10/site-packages (3.17.0)\n",
      "Note: you may need to restart the kernel to use updated packages.\n",
      "Requirement already satisfied: xformers==0.0.22.post7 in /home/demo/miniconda3/envs/rag/lib/python3.10/site-packages (0.0.22.post7)\n",
      "Requirement already satisfied: numpy in /home/demo/miniconda3/envs/rag/lib/python3.10/site-packages (from xformers==0.0.22.post7) (1.26.4)\n",
      "Requirement already satisfied: torch==2.1.0 in /home/demo/miniconda3/envs/rag/lib/python3.10/site-packages (from xformers==0.0.22.post7) (2.1.0)\n",
      "Requirement already satisfied: filelock in /home/demo/miniconda3/envs/rag/lib/python3.10/site-packages (from torch==2.1.0->xformers==0.0.22.post7) (3.13.1)\n",
      "Requirement already satisfied: typing-extensions in /home/demo/miniconda3/envs/rag/lib/python3.10/site-packages (from torch==2.1.0->xformers==0.0.22.post7) (4.9.0)\n",
      "Requirement already satisfied: sympy in /home/demo/miniconda3/envs/rag/lib/python3.10/site-packages (from torch==2.1.0->xformers==0.0.22.post7) (1.12)\n",
      "Requirement already satisfied: networkx in /home/demo/miniconda3/envs/rag/lib/python3.10/site-packages (from torch==2.1.0->xformers==0.0.22.post7) (3.2.1)\n",
      "Requirement already satisfied: jinja2 in /home/demo/miniconda3/envs/rag/lib/python3.10/site-packages (from torch==2.1.0->xformers==0.0.22.post7) (3.1.2)\n",
      "Requirement already satisfied: fsspec in /home/demo/miniconda3/envs/rag/lib/python3.10/site-packages (from torch==2.1.0->xformers==0.0.22.post7) (2023.10.0)\n",
      "Requirement already satisfied: nvidia-cuda-nvrtc-cu12==12.1.105 in /home/demo/miniconda3/envs/rag/lib/python3.10/site-packages (from torch==2.1.0->xformers==0.0.22.post7) (12.1.105)\n",
      "Requirement already satisfied: nvidia-cuda-runtime-cu12==12.1.105 in /home/demo/miniconda3/envs/rag/lib/python3.10/site-packages (from torch==2.1.0->xformers==0.0.22.post7) (12.1.105)\n",
      "Requirement already satisfied: nvidia-cuda-cupti-cu12==12.1.105 in /home/demo/miniconda3/envs/rag/lib/python3.10/site-packages (from torch==2.1.0->xformers==0.0.22.post7) (12.1.105)\n",
      "Requirement already satisfied: nvidia-cudnn-cu12==8.9.2.26 in /home/demo/miniconda3/envs/rag/lib/python3.10/site-packages (from torch==2.1.0->xformers==0.0.22.post7) (8.9.2.26)\n",
      "Requirement already satisfied: nvidia-cublas-cu12==12.1.3.1 in /home/demo/miniconda3/envs/rag/lib/python3.10/site-packages (from torch==2.1.0->xformers==0.0.22.post7) (12.1.3.1)\n",
      "Requirement already satisfied: nvidia-cufft-cu12==11.0.2.54 in /home/demo/miniconda3/envs/rag/lib/python3.10/site-packages (from torch==2.1.0->xformers==0.0.22.post7) (11.0.2.54)\n",
      "Requirement already satisfied: nvidia-curand-cu12==10.3.2.106 in /home/demo/miniconda3/envs/rag/lib/python3.10/site-packages (from torch==2.1.0->xformers==0.0.22.post7) (10.3.2.106)\n",
      "Requirement already satisfied: nvidia-cusolver-cu12==11.4.5.107 in /home/demo/miniconda3/envs/rag/lib/python3.10/site-packages (from torch==2.1.0->xformers==0.0.22.post7) (11.4.5.107)\n",
      "Requirement already satisfied: nvidia-cusparse-cu12==12.1.0.106 in /home/demo/miniconda3/envs/rag/lib/python3.10/site-packages (from torch==2.1.0->xformers==0.0.22.post7) (12.1.0.106)\n",
      "Requirement already satisfied: nvidia-nccl-cu12==2.18.1 in /home/demo/miniconda3/envs/rag/lib/python3.10/site-packages (from torch==2.1.0->xformers==0.0.22.post7) (2.18.1)\n",
      "Requirement already satisfied: nvidia-nvtx-cu12==12.1.105 in /home/demo/miniconda3/envs/rag/lib/python3.10/site-packages (from torch==2.1.0->xformers==0.0.22.post7) (12.1.105)\n",
      "Requirement already satisfied: triton==2.1.0 in /home/demo/miniconda3/envs/rag/lib/python3.10/site-packages (from torch==2.1.0->xformers==0.0.22.post7) (2.1.0)\n",
      "Requirement already satisfied: nvidia-nvjitlink-cu12 in /home/demo/miniconda3/envs/rag/lib/python3.10/site-packages (from nvidia-cusolver-cu12==11.4.5.107->torch==2.1.0->xformers==0.0.22.post7) (12.3.52)\n",
      "Requirement already satisfied: MarkupSafe>=2.0 in /home/demo/miniconda3/envs/rag/lib/python3.10/site-packages (from jinja2->torch==2.1.0->xformers==0.0.22.post7) (2.1.3)\n",
      "Requirement already satisfied: mpmath>=0.19 in /home/demo/miniconda3/envs/rag/lib/python3.10/site-packages (from sympy->torch==2.1.0->xformers==0.0.22.post7) (1.3.0)\n",
      "Note: you may need to restart the kernel to use updated packages.\n",
      "Requirement already satisfied: sentence_transformers==2.2.2 in /home/demo/miniconda3/envs/rag/lib/python3.10/site-packages (2.2.2)\n",
      "Requirement already satisfied: transformers<5.0.0,>=4.6.0 in /home/demo/miniconda3/envs/rag/lib/python3.10/site-packages (from sentence_transformers==2.2.2) (4.37.2)\n",
      "Requirement already satisfied: tqdm in /home/demo/miniconda3/envs/rag/lib/python3.10/site-packages (from sentence_transformers==2.2.2) (4.66.2)\n",
      "Requirement already satisfied: torch>=1.6.0 in /home/demo/miniconda3/envs/rag/lib/python3.10/site-packages (from sentence_transformers==2.2.2) (2.1.0)\n",
      "Requirement already satisfied: torchvision in /home/demo/miniconda3/envs/rag/lib/python3.10/site-packages (from sentence_transformers==2.2.2) (0.16.0)\n",
      "Requirement already satisfied: numpy in /home/demo/miniconda3/envs/rag/lib/python3.10/site-packages (from sentence_transformers==2.2.2) (1.26.4)\n",
      "Requirement already satisfied: scikit-learn in /home/demo/miniconda3/envs/rag/lib/python3.10/site-packages (from sentence_transformers==2.2.2) (1.3.2)\n",
      "Requirement already satisfied: scipy in /home/demo/miniconda3/envs/rag/lib/python3.10/site-packages (from sentence_transformers==2.2.2) (1.11.3)\n",
      "Requirement already satisfied: nltk in /home/demo/miniconda3/envs/rag/lib/python3.10/site-packages (from sentence_transformers==2.2.2) (3.8.1)\n",
      "Requirement already satisfied: sentencepiece in /home/demo/miniconda3/envs/rag/lib/python3.10/site-packages (from sentence_transformers==2.2.2) (0.1.99)\n",
      "Requirement already satisfied: huggingface-hub>=0.4.0 in /home/demo/miniconda3/envs/rag/lib/python3.10/site-packages (from sentence_transformers==2.2.2) (0.23.0)\n"
     ]
    },
    {
     "name": "stdout",
     "output_type": "stream",
     "text": [
      "Requirement already satisfied: filelock in /home/demo/miniconda3/envs/rag/lib/python3.10/site-packages (from huggingface-hub>=0.4.0->sentence_transformers==2.2.2) (3.13.1)\n",
      "Requirement already satisfied: fsspec>=2023.5.0 in /home/demo/miniconda3/envs/rag/lib/python3.10/site-packages (from huggingface-hub>=0.4.0->sentence_transformers==2.2.2) (2023.10.0)\n",
      "Requirement already satisfied: packaging>=20.9 in /home/demo/miniconda3/envs/rag/lib/python3.10/site-packages (from huggingface-hub>=0.4.0->sentence_transformers==2.2.2) (23.2)\n",
      "Requirement already satisfied: pyyaml>=5.1 in /home/demo/miniconda3/envs/rag/lib/python3.10/site-packages (from huggingface-hub>=0.4.0->sentence_transformers==2.2.2) (6.0.1)\n",
      "Requirement already satisfied: requests in /home/demo/miniconda3/envs/rag/lib/python3.10/site-packages (from huggingface-hub>=0.4.0->sentence_transformers==2.2.2) (2.31.0)\n",
      "Requirement already satisfied: typing-extensions>=3.7.4.3 in /home/demo/miniconda3/envs/rag/lib/python3.10/site-packages (from huggingface-hub>=0.4.0->sentence_transformers==2.2.2) (4.9.0)\n",
      "Requirement already satisfied: sympy in /home/demo/miniconda3/envs/rag/lib/python3.10/site-packages (from torch>=1.6.0->sentence_transformers==2.2.2) (1.12)\n",
      "Requirement already satisfied: networkx in /home/demo/miniconda3/envs/rag/lib/python3.10/site-packages (from torch>=1.6.0->sentence_transformers==2.2.2) (3.2.1)\n",
      "Requirement already satisfied: jinja2 in /home/demo/miniconda3/envs/rag/lib/python3.10/site-packages (from torch>=1.6.0->sentence_transformers==2.2.2) (3.1.2)\n",
      "Requirement already satisfied: nvidia-cuda-nvrtc-cu12==12.1.105 in /home/demo/miniconda3/envs/rag/lib/python3.10/site-packages (from torch>=1.6.0->sentence_transformers==2.2.2) (12.1.105)\n",
      "Requirement already satisfied: nvidia-cuda-runtime-cu12==12.1.105 in /home/demo/miniconda3/envs/rag/lib/python3.10/site-packages (from torch>=1.6.0->sentence_transformers==2.2.2) (12.1.105)\n",
      "Requirement already satisfied: nvidia-cuda-cupti-cu12==12.1.105 in /home/demo/miniconda3/envs/rag/lib/python3.10/site-packages (from torch>=1.6.0->sentence_transformers==2.2.2) (12.1.105)\n",
      "Requirement already satisfied: nvidia-cudnn-cu12==8.9.2.26 in /home/demo/miniconda3/envs/rag/lib/python3.10/site-packages (from torch>=1.6.0->sentence_transformers==2.2.2) (8.9.2.26)\n",
      "Requirement already satisfied: nvidia-cublas-cu12==12.1.3.1 in /home/demo/miniconda3/envs/rag/lib/python3.10/site-packages (from torch>=1.6.0->sentence_transformers==2.2.2) (12.1.3.1)\n",
      "Requirement already satisfied: nvidia-cufft-cu12==11.0.2.54 in /home/demo/miniconda3/envs/rag/lib/python3.10/site-packages (from torch>=1.6.0->sentence_transformers==2.2.2) (11.0.2.54)\n",
      "Requirement already satisfied: nvidia-curand-cu12==10.3.2.106 in /home/demo/miniconda3/envs/rag/lib/python3.10/site-packages (from torch>=1.6.0->sentence_transformers==2.2.2) (10.3.2.106)\n",
      "Requirement already satisfied: nvidia-cusolver-cu12==11.4.5.107 in /home/demo/miniconda3/envs/rag/lib/python3.10/site-packages (from torch>=1.6.0->sentence_transformers==2.2.2) (11.4.5.107)\n",
      "Requirement already satisfied: nvidia-cusparse-cu12==12.1.0.106 in /home/demo/miniconda3/envs/rag/lib/python3.10/site-packages (from torch>=1.6.0->sentence_transformers==2.2.2) (12.1.0.106)\n",
      "Requirement already satisfied: nvidia-nccl-cu12==2.18.1 in /home/demo/miniconda3/envs/rag/lib/python3.10/site-packages (from torch>=1.6.0->sentence_transformers==2.2.2) (2.18.1)\n",
      "Requirement already satisfied: nvidia-nvtx-cu12==12.1.105 in /home/demo/miniconda3/envs/rag/lib/python3.10/site-packages (from torch>=1.6.0->sentence_transformers==2.2.2) (12.1.105)\n",
      "Requirement already satisfied: triton==2.1.0 in /home/demo/miniconda3/envs/rag/lib/python3.10/site-packages (from torch>=1.6.0->sentence_transformers==2.2.2) (2.1.0)\n",
      "Requirement already satisfied: nvidia-nvjitlink-cu12 in /home/demo/miniconda3/envs/rag/lib/python3.10/site-packages (from nvidia-cusolver-cu12==11.4.5.107->torch>=1.6.0->sentence_transformers==2.2.2) (12.3.52)\n",
      "Requirement already satisfied: regex!=2019.12.17 in /home/demo/miniconda3/envs/rag/lib/python3.10/site-packages (from transformers<5.0.0,>=4.6.0->sentence_transformers==2.2.2) (2023.12.25)\n",
      "Requirement already satisfied: tokenizers<0.19,>=0.14 in /home/demo/miniconda3/envs/rag/lib/python3.10/site-packages (from transformers<5.0.0,>=4.6.0->sentence_transformers==2.2.2) (0.15.2)\n",
      "Requirement already satisfied: safetensors>=0.4.1 in /home/demo/miniconda3/envs/rag/lib/python3.10/site-packages (from transformers<5.0.0,>=4.6.0->sentence_transformers==2.2.2) (0.4.2)\n",
      "Requirement already satisfied: click in /home/demo/miniconda3/envs/rag/lib/python3.10/site-packages (from nltk->sentence_transformers==2.2.2) (8.1.7)\n",
      "Requirement already satisfied: joblib in /home/demo/miniconda3/envs/rag/lib/python3.10/site-packages (from nltk->sentence_transformers==2.2.2) (1.3.2)\n",
      "Requirement already satisfied: threadpoolctl>=2.0.0 in /home/demo/miniconda3/envs/rag/lib/python3.10/site-packages (from scikit-learn->sentence_transformers==2.2.2) (3.2.0)\n",
      "Requirement already satisfied: pillow!=8.3.*,>=5.3.0 in /home/demo/miniconda3/envs/rag/lib/python3.10/site-packages (from torchvision->sentence_transformers==2.2.2) (10.1.0)\n",
      "Requirement already satisfied: MarkupSafe>=2.0 in /home/demo/miniconda3/envs/rag/lib/python3.10/site-packages (from jinja2->torch>=1.6.0->sentence_transformers==2.2.2) (2.1.3)\n",
      "Requirement already satisfied: charset-normalizer<4,>=2 in /home/demo/miniconda3/envs/rag/lib/python3.10/site-packages (from requests->huggingface-hub>=0.4.0->sentence_transformers==2.2.2) (3.3.2)\n",
      "Requirement already satisfied: idna<4,>=2.5 in /home/demo/miniconda3/envs/rag/lib/python3.10/site-packages (from requests->huggingface-hub>=0.4.0->sentence_transformers==2.2.2) (3.6)\n",
      "Requirement already satisfied: urllib3<3,>=1.21.1 in /home/demo/miniconda3/envs/rag/lib/python3.10/site-packages (from requests->huggingface-hub>=0.4.0->sentence_transformers==2.2.2) (2.2.1)\n",
      "Requirement already satisfied: certifi>=2017.4.17 in /home/demo/miniconda3/envs/rag/lib/python3.10/site-packages (from requests->huggingface-hub>=0.4.0->sentence_transformers==2.2.2) (2024.2.2)\n",
      "Requirement already satisfied: mpmath>=0.19 in /home/demo/miniconda3/envs/rag/lib/python3.10/site-packages (from sympy->torch>=1.6.0->sentence_transformers==2.2.2) (1.3.0)\n",
      "Note: you may need to restart the kernel to use updated packages.\n",
      "Requirement already satisfied: InstructorEmbedding==1.0.1 in /home/demo/miniconda3/envs/rag/lib/python3.10/site-packages (1.0.1)\n",
      "Note: you may need to restart the kernel to use updated packages.\n",
      "Requirement already satisfied: pycryptodome==3.19.0 in /home/demo/miniconda3/envs/rag/lib/python3.10/site-packages (3.19.0)\n",
      "Note: you may need to restart the kernel to use updated packages.\n",
      "Requirement already satisfied: cython==3.0.5 in /home/demo/miniconda3/envs/rag/lib/python3.10/site-packages (3.0.5)\n",
      "Note: you may need to restart the kernel to use updated packages.\n",
      "Requirement already satisfied: cchardet==2.1.7 in /home/demo/miniconda3/envs/rag/lib/python3.10/site-packages (2.1.7)\n",
      "Note: you may need to restart the kernel to use updated packages.\n",
      "Requirement already satisfied: gradio in /home/demo/miniconda3/envs/rag/lib/python3.10/site-packages (4.27.0)\n",
      "Requirement already satisfied: aiofiles<24.0,>=22.0 in /home/demo/miniconda3/envs/rag/lib/python3.10/site-packages (from gradio) (23.2.1)\n",
      "Requirement already satisfied: altair<6.0,>=4.2.0 in /home/demo/miniconda3/envs/rag/lib/python3.10/site-packages (from gradio) (5.1.2)\n",
      "Requirement already satisfied: fastapi in /home/demo/miniconda3/envs/rag/lib/python3.10/site-packages (from gradio) (0.110.1)\n",
      "Requirement already satisfied: ffmpy in /home/demo/miniconda3/envs/rag/lib/python3.10/site-packages (from gradio) (0.3.1)\n",
      "Requirement already satisfied: gradio-client==0.15.1 in /home/demo/miniconda3/envs/rag/lib/python3.10/site-packages (from gradio) (0.15.1)\n",
      "Requirement already satisfied: httpx>=0.24.1 in /home/demo/miniconda3/envs/rag/lib/python3.10/site-packages (from gradio) (0.25.1)\n",
      "Requirement already satisfied: huggingface-hub>=0.19.3 in /home/demo/miniconda3/envs/rag/lib/python3.10/site-packages (from gradio) (0.23.0)\n",
      "Requirement already satisfied: importlib-resources<7.0,>=1.3 in /home/demo/miniconda3/envs/rag/lib/python3.10/site-packages (from gradio) (6.1.0)\n",
      "Requirement already satisfied: jinja2<4.0 in /home/demo/miniconda3/envs/rag/lib/python3.10/site-packages (from gradio) (3.1.2)\n",
      "Requirement already satisfied: markupsafe~=2.0 in /home/demo/miniconda3/envs/rag/lib/python3.10/site-packages (from gradio) (2.1.3)\n",
      "Requirement already satisfied: matplotlib~=3.0 in /home/demo/miniconda3/envs/rag/lib/python3.10/site-packages (from gradio) (3.8.1)\n",
      "Requirement already satisfied: numpy~=1.0 in /home/demo/miniconda3/envs/rag/lib/python3.10/site-packages (from gradio) (1.26.4)\n",
      "Requirement already satisfied: orjson~=3.0 in /home/demo/miniconda3/envs/rag/lib/python3.10/site-packages (from gradio) (3.10.1)\n",
      "Requirement already satisfied: packaging in /home/demo/miniconda3/envs/rag/lib/python3.10/site-packages (from gradio) (23.2)\n",
      "Requirement already satisfied: pandas<3.0,>=1.0 in /home/demo/miniconda3/envs/rag/lib/python3.10/site-packages (from gradio) (1.5.3)\n",
      "Requirement already satisfied: pillow<11.0,>=8.0 in /home/demo/miniconda3/envs/rag/lib/python3.10/site-packages (from gradio) (10.1.0)\n",
      "Requirement already satisfied: pydantic>=2.0 in /home/demo/miniconda3/envs/rag/lib/python3.10/site-packages (from gradio) (2.7.0)\n",
      "Requirement already satisfied: pydub in /home/demo/miniconda3/envs/rag/lib/python3.10/site-packages (from gradio) (0.25.1)\n",
      "Requirement already satisfied: python-multipart>=0.0.9 in /home/demo/miniconda3/envs/rag/lib/python3.10/site-packages (from gradio) (0.0.9)\n",
      "Requirement already satisfied: pyyaml<7.0,>=5.0 in /home/demo/miniconda3/envs/rag/lib/python3.10/site-packages (from gradio) (6.0.1)\n",
      "Requirement already satisfied: ruff>=0.2.2 in /home/demo/miniconda3/envs/rag/lib/python3.10/site-packages (from gradio) (0.3.7)\n",
      "Requirement already satisfied: semantic-version~=2.0 in /home/demo/miniconda3/envs/rag/lib/python3.10/site-packages (from gradio) (2.10.0)\n",
      "Requirement already satisfied: tomlkit==0.12.0 in /home/demo/miniconda3/envs/rag/lib/python3.10/site-packages (from gradio) (0.12.0)\n",
      "Requirement already satisfied: typer<1.0,>=0.12 in /home/demo/miniconda3/envs/rag/lib/python3.10/site-packages (from gradio) (0.12.3)\n",
      "Requirement already satisfied: typing-extensions~=4.0 in /home/demo/miniconda3/envs/rag/lib/python3.10/site-packages (from gradio) (4.9.0)\n",
      "Requirement already satisfied: urllib3~=2.0 in /home/demo/miniconda3/envs/rag/lib/python3.10/site-packages (from gradio) (2.2.1)\n",
      "Requirement already satisfied: uvicorn>=0.14.0 in /home/demo/miniconda3/envs/rag/lib/python3.10/site-packages (from gradio) (0.24.0.post1)\n",
      "Requirement already satisfied: fsspec in /home/demo/miniconda3/envs/rag/lib/python3.10/site-packages (from gradio-client==0.15.1->gradio) (2023.10.0)\n",
      "Requirement already satisfied: websockets<12.0,>=10.0 in /home/demo/miniconda3/envs/rag/lib/python3.10/site-packages (from gradio-client==0.15.1->gradio) (11.0.3)\n",
      "Requirement already satisfied: jsonschema>=3.0 in /home/demo/miniconda3/envs/rag/lib/python3.10/site-packages (from altair<6.0,>=4.2.0->gradio) (4.19.2)\n",
      "Requirement already satisfied: toolz in /home/demo/miniconda3/envs/rag/lib/python3.10/site-packages (from altair<6.0,>=4.2.0->gradio) (0.12.0)\n",
      "Requirement already satisfied: anyio in /home/demo/miniconda3/envs/rag/lib/python3.10/site-packages (from httpx>=0.24.1->gradio) (3.7.1)\n",
      "Requirement already satisfied: certifi in /home/demo/miniconda3/envs/rag/lib/python3.10/site-packages (from httpx>=0.24.1->gradio) (2024.2.2)\n",
      "Requirement already satisfied: httpcore in /home/demo/miniconda3/envs/rag/lib/python3.10/site-packages (from httpx>=0.24.1->gradio) (1.0.1)\n",
      "Requirement already satisfied: idna in /home/demo/miniconda3/envs/rag/lib/python3.10/site-packages (from httpx>=0.24.1->gradio) (3.6)\n",
      "Requirement already satisfied: sniffio in /home/demo/miniconda3/envs/rag/lib/python3.10/site-packages (from httpx>=0.24.1->gradio) (1.3.0)\n"
     ]
    },
    {
     "name": "stdout",
     "output_type": "stream",
     "text": [
      "Requirement already satisfied: filelock in /home/demo/miniconda3/envs/rag/lib/python3.10/site-packages (from huggingface-hub>=0.19.3->gradio) (3.13.1)\n",
      "Requirement already satisfied: requests in /home/demo/miniconda3/envs/rag/lib/python3.10/site-packages (from huggingface-hub>=0.19.3->gradio) (2.31.0)\n",
      "Requirement already satisfied: tqdm>=4.42.1 in /home/demo/miniconda3/envs/rag/lib/python3.10/site-packages (from huggingface-hub>=0.19.3->gradio) (4.66.2)\n",
      "Requirement already satisfied: contourpy>=1.0.1 in /home/demo/miniconda3/envs/rag/lib/python3.10/site-packages (from matplotlib~=3.0->gradio) (1.2.0)\n",
      "Requirement already satisfied: cycler>=0.10 in /home/demo/miniconda3/envs/rag/lib/python3.10/site-packages (from matplotlib~=3.0->gradio) (0.12.1)\n",
      "Requirement already satisfied: fonttools>=4.22.0 in /home/demo/miniconda3/envs/rag/lib/python3.10/site-packages (from matplotlib~=3.0->gradio) (4.44.0)\n",
      "Requirement already satisfied: kiwisolver>=1.3.1 in /home/demo/miniconda3/envs/rag/lib/python3.10/site-packages (from matplotlib~=3.0->gradio) (1.4.5)\n",
      "Requirement already satisfied: pyparsing>=2.3.1 in /home/demo/miniconda3/envs/rag/lib/python3.10/site-packages (from matplotlib~=3.0->gradio) (3.1.1)\n",
      "Requirement already satisfied: python-dateutil>=2.7 in /home/demo/miniconda3/envs/rag/lib/python3.10/site-packages (from matplotlib~=3.0->gradio) (2.8.2)\n",
      "Requirement already satisfied: pytz>=2020.1 in /home/demo/miniconda3/envs/rag/lib/python3.10/site-packages (from pandas<3.0,>=1.0->gradio) (2023.3.post1)\n",
      "Requirement already satisfied: annotated-types>=0.4.0 in /home/demo/miniconda3/envs/rag/lib/python3.10/site-packages (from pydantic>=2.0->gradio) (0.6.0)\n",
      "Requirement already satisfied: pydantic-core==2.18.1 in /home/demo/miniconda3/envs/rag/lib/python3.10/site-packages (from pydantic>=2.0->gradio) (2.18.1)\n",
      "Requirement already satisfied: click>=8.0.0 in /home/demo/miniconda3/envs/rag/lib/python3.10/site-packages (from typer<1.0,>=0.12->gradio) (8.1.7)\n",
      "Requirement already satisfied: shellingham>=1.3.0 in /home/demo/miniconda3/envs/rag/lib/python3.10/site-packages (from typer<1.0,>=0.12->gradio) (1.5.4)\n",
      "Requirement already satisfied: rich>=10.11.0 in /home/demo/miniconda3/envs/rag/lib/python3.10/site-packages (from typer<1.0,>=0.12->gradio) (13.6.0)\n",
      "Requirement already satisfied: h11>=0.8 in /home/demo/miniconda3/envs/rag/lib/python3.10/site-packages (from uvicorn>=0.14.0->gradio) (0.14.0)\n",
      "Requirement already satisfied: starlette<0.38.0,>=0.37.2 in /home/demo/miniconda3/envs/rag/lib/python3.10/site-packages (from fastapi->gradio) (0.37.2)\n",
      "Requirement already satisfied: attrs>=22.2.0 in /home/demo/miniconda3/envs/rag/lib/python3.10/site-packages (from jsonschema>=3.0->altair<6.0,>=4.2.0->gradio) (23.1.0)\n",
      "Requirement already satisfied: jsonschema-specifications>=2023.03.6 in /home/demo/miniconda3/envs/rag/lib/python3.10/site-packages (from jsonschema>=3.0->altair<6.0,>=4.2.0->gradio) (2023.7.1)\n",
      "Requirement already satisfied: referencing>=0.28.4 in /home/demo/miniconda3/envs/rag/lib/python3.10/site-packages (from jsonschema>=3.0->altair<6.0,>=4.2.0->gradio) (0.30.2)\n",
      "Requirement already satisfied: rpds-py>=0.7.1 in /home/demo/miniconda3/envs/rag/lib/python3.10/site-packages (from jsonschema>=3.0->altair<6.0,>=4.2.0->gradio) (0.12.0)\n",
      "Requirement already satisfied: six>=1.5 in /home/demo/miniconda3/envs/rag/lib/python3.10/site-packages (from python-dateutil>=2.7->matplotlib~=3.0->gradio) (1.16.0)\n",
      "Requirement already satisfied: markdown-it-py>=2.2.0 in /home/demo/miniconda3/envs/rag/lib/python3.10/site-packages (from rich>=10.11.0->typer<1.0,>=0.12->gradio) (3.0.0)\n",
      "Requirement already satisfied: pygments<3.0.0,>=2.13.0 in /home/demo/miniconda3/envs/rag/lib/python3.10/site-packages (from rich>=10.11.0->typer<1.0,>=0.12->gradio) (2.16.1)\n",
      "Requirement already satisfied: exceptiongroup in /home/demo/miniconda3/envs/rag/lib/python3.10/site-packages (from anyio->httpx>=0.24.1->gradio) (1.1.3)\n",
      "Requirement already satisfied: charset-normalizer<4,>=2 in /home/demo/miniconda3/envs/rag/lib/python3.10/site-packages (from requests->huggingface-hub>=0.19.3->gradio) (3.3.2)\n",
      "Requirement already satisfied: mdurl~=0.1 in /home/demo/miniconda3/envs/rag/lib/python3.10/site-packages (from markdown-it-py>=2.2.0->rich>=10.11.0->typer<1.0,>=0.12->gradio) (0.1.2)\n",
      "Note: you may need to restart the kernel to use updated packages.\n",
      "Requirement already satisfied: pydantic==2.7.0 in /home/demo/miniconda3/envs/rag/lib/python3.10/site-packages (2.7.0)\n",
      "Requirement already satisfied: annotated-types>=0.4.0 in /home/demo/miniconda3/envs/rag/lib/python3.10/site-packages (from pydantic==2.7.0) (0.6.0)\n",
      "Requirement already satisfied: pydantic-core==2.18.1 in /home/demo/miniconda3/envs/rag/lib/python3.10/site-packages (from pydantic==2.7.0) (2.18.1)\n",
      "Requirement already satisfied: typing-extensions>=4.6.1 in /home/demo/miniconda3/envs/rag/lib/python3.10/site-packages (from pydantic==2.7.0) (4.9.0)\n",
      "Note: you may need to restart the kernel to use updated packages.\n",
      "Requirement already satisfied: unstructured==0.13.6 in /home/demo/miniconda3/envs/rag/lib/python3.10/site-packages (0.13.6)\n",
      "Requirement already satisfied: chardet in /home/demo/miniconda3/envs/rag/lib/python3.10/site-packages (from unstructured==0.13.6) (5.2.0)\n",
      "Requirement already satisfied: filetype in /home/demo/miniconda3/envs/rag/lib/python3.10/site-packages (from unstructured==0.13.6) (1.2.0)\n",
      "Requirement already satisfied: python-magic in /home/demo/miniconda3/envs/rag/lib/python3.10/site-packages (from unstructured==0.13.6) (0.4.27)\n",
      "Requirement already satisfied: lxml in /home/demo/miniconda3/envs/rag/lib/python3.10/site-packages (from unstructured==0.13.6) (5.1.0)\n",
      "Requirement already satisfied: nltk in /home/demo/miniconda3/envs/rag/lib/python3.10/site-packages (from unstructured==0.13.6) (3.8.1)\n",
      "Requirement already satisfied: tabulate in /home/demo/miniconda3/envs/rag/lib/python3.10/site-packages (from unstructured==0.13.6) (0.9.0)\n",
      "Requirement already satisfied: requests in /home/demo/miniconda3/envs/rag/lib/python3.10/site-packages (from unstructured==0.13.6) (2.31.0)\n",
      "Requirement already satisfied: beautifulsoup4 in /home/demo/miniconda3/envs/rag/lib/python3.10/site-packages (from unstructured==0.13.6) (4.12.3)\n",
      "Requirement already satisfied: emoji in /home/demo/miniconda3/envs/rag/lib/python3.10/site-packages (from unstructured==0.13.6) (2.10.1)\n",
      "Requirement already satisfied: dataclasses-json in /home/demo/miniconda3/envs/rag/lib/python3.10/site-packages (from unstructured==0.13.6) (0.6.4)\n",
      "Requirement already satisfied: python-iso639 in /home/demo/miniconda3/envs/rag/lib/python3.10/site-packages (from unstructured==0.13.6) (2024.2.7)\n",
      "Requirement already satisfied: langdetect in /home/demo/miniconda3/envs/rag/lib/python3.10/site-packages (from unstructured==0.13.6) (1.0.9)\n",
      "Requirement already satisfied: numpy in /home/demo/miniconda3/envs/rag/lib/python3.10/site-packages (from unstructured==0.13.6) (1.26.4)\n",
      "Requirement already satisfied: rapidfuzz in /home/demo/miniconda3/envs/rag/lib/python3.10/site-packages (from unstructured==0.13.6) (3.6.1)\n",
      "Requirement already satisfied: backoff in /home/demo/miniconda3/envs/rag/lib/python3.10/site-packages (from unstructured==0.13.6) (2.2.1)\n",
      "Requirement already satisfied: typing-extensions in /home/demo/miniconda3/envs/rag/lib/python3.10/site-packages (from unstructured==0.13.6) (4.9.0)\n",
      "Requirement already satisfied: unstructured-client in /home/demo/miniconda3/envs/rag/lib/python3.10/site-packages (from unstructured==0.13.6) (0.18.0)\n",
      "Requirement already satisfied: wrapt in /home/demo/miniconda3/envs/rag/lib/python3.10/site-packages (from unstructured==0.13.6) (1.16.0)\n",
      "Requirement already satisfied: soupsieve>1.2 in /home/demo/miniconda3/envs/rag/lib/python3.10/site-packages (from beautifulsoup4->unstructured==0.13.6) (2.5)\n",
      "Requirement already satisfied: marshmallow<4.0.0,>=3.18.0 in /home/demo/miniconda3/envs/rag/lib/python3.10/site-packages (from dataclasses-json->unstructured==0.13.6) (3.20.2)\n",
      "Requirement already satisfied: typing-inspect<1,>=0.4.0 in /home/demo/miniconda3/envs/rag/lib/python3.10/site-packages (from dataclasses-json->unstructured==0.13.6) (0.9.0)\n",
      "Requirement already satisfied: six in /home/demo/miniconda3/envs/rag/lib/python3.10/site-packages (from langdetect->unstructured==0.13.6) (1.16.0)\n",
      "Requirement already satisfied: click in /home/demo/miniconda3/envs/rag/lib/python3.10/site-packages (from nltk->unstructured==0.13.6) (8.1.7)\n",
      "Requirement already satisfied: joblib in /home/demo/miniconda3/envs/rag/lib/python3.10/site-packages (from nltk->unstructured==0.13.6) (1.3.2)\n",
      "Requirement already satisfied: regex>=2021.8.3 in /home/demo/miniconda3/envs/rag/lib/python3.10/site-packages (from nltk->unstructured==0.13.6) (2023.12.25)\n",
      "Requirement already satisfied: tqdm in /home/demo/miniconda3/envs/rag/lib/python3.10/site-packages (from nltk->unstructured==0.13.6) (4.66.2)\n",
      "Requirement already satisfied: charset-normalizer<4,>=2 in /home/demo/miniconda3/envs/rag/lib/python3.10/site-packages (from requests->unstructured==0.13.6) (3.3.2)\n",
      "Requirement already satisfied: idna<4,>=2.5 in /home/demo/miniconda3/envs/rag/lib/python3.10/site-packages (from requests->unstructured==0.13.6) (3.6)\n",
      "Requirement already satisfied: urllib3<3,>=1.21.1 in /home/demo/miniconda3/envs/rag/lib/python3.10/site-packages (from requests->unstructured==0.13.6) (2.2.1)\n",
      "Requirement already satisfied: certifi>=2017.4.17 in /home/demo/miniconda3/envs/rag/lib/python3.10/site-packages (from requests->unstructured==0.13.6) (2024.2.2)\n",
      "Requirement already satisfied: dataclasses-json-speakeasy>=0.5.11 in /home/demo/miniconda3/envs/rag/lib/python3.10/site-packages (from unstructured-client->unstructured==0.13.6) (0.5.11)\n",
      "Requirement already satisfied: jsonpath-python>=1.0.6 in /home/demo/miniconda3/envs/rag/lib/python3.10/site-packages (from unstructured-client->unstructured==0.13.6) (1.0.6)\n",
      "Requirement already satisfied: mypy-extensions>=1.0.0 in /home/demo/miniconda3/envs/rag/lib/python3.10/site-packages (from unstructured-client->unstructured==0.13.6) (1.0.0)\n",
      "Requirement already satisfied: packaging>=23.1 in /home/demo/miniconda3/envs/rag/lib/python3.10/site-packages (from unstructured-client->unstructured==0.13.6) (23.2)\n",
      "Requirement already satisfied: python-dateutil>=2.8.2 in /home/demo/miniconda3/envs/rag/lib/python3.10/site-packages (from unstructured-client->unstructured==0.13.6) (2.8.2)\n"
     ]
    },
    {
     "name": "stdout",
     "output_type": "stream",
     "text": [
      "Note: you may need to restart the kernel to use updated packages.\n"
     ]
    }
   ],
   "source": [
    "%pip install accelerate==0.24.1  ## for use of device map feature\n",
    "%pip install transformers==4.37.2\n",
    "#%pip install langchain==0.0.199\n",
    "%pip install langchain==0.1.16\n",
    "#%pip install chromadb==0.3.29\n",
    "%pip install chromadb==0.4.24\n",
    "%pip install fastapi==0.110.1\n",
    "%pip install pypdf==3.17.0\n",
    "%pip install xformers==0.0.22.post7\n",
    "%pip install sentence_transformers==2.2.2  ## this version to avoid bug in 2.2.3\n",
    "%pip install InstructorEmbedding==1.0.1\n",
    "%pip install pycryptodome==3.19.0\n",
    "%pip install cython==3.0.5\n",
    "%pip install cchardet==2.1.7\n",
    "#%pip install gradio==3.48.0\n",
    "%pip install gradio  ### need updated gradio for API, which needs upgraded pydantic and fastapi\n",
    "#%pip install pydantic==1.10\n",
    "%pip install pydantic==2.7.0\n",
    "%pip install unstructured==0.13.6"
   ]
  },
  {
   "cell_type": "code",
   "execution_count": 3,
   "id": "177e0b68-2bcb-4e08-ab86-d21c30ca72f9",
   "metadata": {},
   "outputs": [],
   "source": [
    "### get version of a module\n",
    "#%pip show InstructorEmbedding"
   ]
  },
  {
   "cell_type": "code",
   "execution_count": 4,
   "id": "1b1132dd-4463-45fe-997f-2136c13464af",
   "metadata": {},
   "outputs": [],
   "source": [
    "### Check installed GPU"
   ]
  },
  {
   "cell_type": "code",
   "execution_count": 5,
   "id": "0a0a0592-b751-4f5c-b97c-5cd12e8baef7",
   "metadata": {},
   "outputs": [],
   "source": [
    "# !nvidia-smi"
   ]
  },
  {
   "cell_type": "markdown",
   "id": "3dbb3e4a-af6a-4852-98a0-97afaff2924c",
   "metadata": {},
   "source": [
    "### Assign GPU environment vars and ID order\n",
    "\n",
    "NOTE:  to change which GPU you want visible, simply change the CUDA VISIBLE DEVICES ID to the GPU you prefer. \n",
    "This method guarantees no confusion or misplaced workloads on any GPUs."
   ]
  },
  {
   "cell_type": "code",
   "execution_count": 6,
   "id": "88bf410b-3b71-4299-8bc9-0b6fb09f4482",
   "metadata": {},
   "outputs": [],
   "source": [
    "## THESE VARIABLES MUST APPEAR BEFORE TORCH OR CUDA IS IMPORTED\n",
    "## set visible GPU devices and order of IDs to the PCI bus order\n",
    "## target the L40s that is on ID 1\n",
    "\n",
    "import os\n",
    "os.environ[\"CUDA_VISIBLE_DEVICES\"]=\"0\"   \n",
    "\n",
    "## this integer corresponds to the ID of the GPU, for multiple GPU use \"0,1,2,3\"...\n",
    "## to disable all GPUs, simply put empty quotes \"\"\n",
    "\n",
    "os.environ[\"CUDA_DEVICE_ORDER\"]=\"PCI_BUS_ID\""
   ]
  },
  {
   "cell_type": "markdown",
   "id": "3846fa67-69d7-478e-995e-d16a5ba98f72",
   "metadata": {},
   "source": [
    "### Investigate our GPU and CUDA environment\n",
    "\n",
    "NOTE:  If you are only using 1 single GPU in the visibility settings above, then the active CUDA device will always be 0 since it is the only GPU seen."
   ]
  },
  {
   "cell_type": "code",
   "execution_count": 7,
   "id": "eaec1edd-9c18-4b1f-a0e8-e3ed03b3141f",
   "metadata": {},
   "outputs": [],
   "source": [
    "import torch\n",
    "# import sys\n",
    "# import os\n",
    "# from subprocess import call\n",
    "# print('_____Python, Pytorch, Cuda info____')\n",
    "# print('__Python VERSION:', sys.version)\n",
    "# print('__pyTorch VERSION:', torch.__version__)\n",
    "# print('__CUDA RUNTIME API VERSION')\n",
    "# #os.system('nvcc --version')\n",
    "# print('__CUDNN VERSION:', torch.backends.cudnn.version())\n",
    "# print('_____nvidia-smi GPU details____')\n",
    "# call([\"nvidia-smi\", \"--format=csv\", \"--query-gpu=index,name,driver_version,memory.total,memory.used,memory.free\"])\n",
    "# print('_____Device assignments____')\n",
    "# print('Number CUDA Devices:', torch.cuda.device_count())\n",
    "# print ('Current cuda device: ', torch.cuda.current_device(), ' **May not correspond to nvidia-smi ID above, check visibility parameter')\n",
    "# print(\"Device name: \", torch.cuda.get_device_name(torch.cuda.current_device()))"
   ]
  },
  {
   "cell_type": "markdown",
   "id": "82bae0d5-b6ef-425b-9e29-13393a839bcf",
   "metadata": {},
   "source": [
    "### Assign single GPU to device variable\n",
    "\n",
    "This command assigns GPU ID 0 to the DEVICE variable called \"cuda:0\" if pytorch can actually reach and speak with the GPU using cuda language.  Else it will use the cpu."
   ]
  },
  {
   "cell_type": "code",
   "execution_count": 8,
   "id": "c26efcc3-328c-49fe-9fe6-bbdbec423b47",
   "metadata": {},
   "outputs": [
    {
     "name": "stdout",
     "output_type": "stream",
     "text": [
      "cuda\n"
     ]
    }
   ],
   "source": [
    "DEVICE = \"cuda\" if torch.cuda.is_available() else \"cpu\"\n",
    "print(DEVICE)"
   ]
  },
  {
   "cell_type": "code",
   "execution_count": 9,
   "id": "b639b742-c004-4bcd-9dd6-298a0fc499d4",
   "metadata": {},
   "outputs": [],
   "source": [
    "from langchain import HuggingFacePipeline, PromptTemplate\n",
    "\n",
    "### import loaders\n",
    "from langchain.document_loaders import PyPDFDirectoryLoader\n",
    "from langchain_community.document_loaders import PyPDFLoader\n",
    "from langchain.document_loaders import CSVLoader\n",
    "from langchain_community.document_loaders import UnstructuredPowerPointLoader\n",
    "\n",
    "### for embedding\n",
    "from langchain.embeddings import HuggingFaceInstructEmbeddings\n",
    "from langchain.text_splitter import CharacterTextSplitter\n",
    "\n",
    "#from langchain.text_splitter import RecursiveCharacterTextSplitter\n",
    "from langchain.vectorstores import Chroma\n",
    "\n",
    "### for langchain chain\n",
    "from langchain.memory import ConversationBufferWindowMemory\n",
    "from langchain.chains import RetrievalQA\n",
    "#from langchain.chains import ConversationalRetrievalChain\n",
    "from transformers import AutoTokenizer, pipeline, TextIteratorStreamer, AutoModelForCausalLM\n",
    "from langchain.chains import LLMChain\n",
    "\n",
    "\n",
    "### status bars and UI and other accessories\n",
    "from tqdm import tqdm\n",
    "import time\n",
    "import gradio as gr\n",
    "import json"
   ]
  },
  {
   "cell_type": "markdown",
   "id": "e7481a10-af9f-4154-bddb-e429d4361ecf",
   "metadata": {},
   "source": [
    "### Clear GPU memory from any previous runs\n",
    "- assume Nvidia drivers installed\n",
    "- When running notebooks over and over again, often much of the memory is still in the GPU memory allocated cache.  Depending on the size of the GPU, this might cause out of memory issues during the next run.  It is advised to clear out the cache, or restart the kernel.\n",
    "- here we see multiple GPUs, the memory usage, any running processes and our CUDA version"
   ]
  },
  {
   "cell_type": "code",
   "execution_count": 10,
   "id": "14cfe3b9-5c65-4708-ad97-5bb3a04d2e78",
   "metadata": {},
   "outputs": [],
   "source": [
    "# import gc\n",
    "# gc.collect()\n",
    "# torch.cuda.empty_cache()"
   ]
  },
  {
   "cell_type": "markdown",
   "id": "cf6559d3-b08a-4ecb-a00c-cddba9f958e2",
   "metadata": {},
   "source": [
    "### Clear the previous run vector database\n",
    "\n",
    "This is optional, the vector db will be rebuilt.  For a completely fresh run you can delete the local folder."
   ]
  },
  {
   "cell_type": "code",
   "execution_count": 11,
   "id": "b4084ec3-db2b-475d-8e4b-5ea3f980879f",
   "metadata": {},
   "outputs": [],
   "source": [
    "# ## remove chroma vector db local db folder from previous run\n",
    "\n",
    "# !rm -rf \"db2\""
   ]
  },
  {
   "cell_type": "markdown",
   "id": "41b5cb4a-c179-450a-8a55-d17f29d7e4db",
   "metadata": {},
   "source": [
    "### Add PDF directory of files\n",
    "\n",
    "- ESG Summary (Environmental, Social and Governance) report\n",
    "- Dell leadership org chart"
   ]
  },
  {
   "cell_type": "code",
   "execution_count": 12,
   "id": "e62e497d-7740-4162-bb56-80c6845e06ed",
   "metadata": {},
   "outputs": [],
   "source": [
    "# pdf_dir_loader = PyPDFDirectoryLoader(\"pdf-files-infohub/\")"
   ]
  },
  {
   "cell_type": "markdown",
   "id": "283eb04c-1798-4e01-b509-a1f7e055439e",
   "metadata": {},
   "source": [
    "### Add CSV files\n",
    "\n",
    "CSV files are vectorized line by line.  100 lines of the file will equal 100 docs of vectorized data.\n",
    "\n",
    "This will load data into Langchain document object."
   ]
  },
  {
   "cell_type": "markdown",
   "id": "14083e72-3232-44b1-b85b-cc919883cfe8",
   "metadata": {},
   "source": [
    "#### load events\n",
    "\n",
    "NOTE:  if you switch files you might run into a byte recognition error:  UnicodeDecodeError: 'utf-8' codec can't decode byte 0xa0 in position 3519: invalid start byte.  This is fixed with windows-1252 encoding.\n",
    "\n",
    "Your CSV files must be totally clean from any funny characters.  0xa0 is a funky space character."
   ]
  },
  {
   "cell_type": "code",
   "execution_count": 13,
   "id": "aab23172-4219-4cec-8169-eade985f81ce",
   "metadata": {},
   "outputs": [],
   "source": [
    "# events_loader = CSVLoader(\"csv-files/events-schedule-dtw24.csv\", encoding='windows-1252')"
   ]
  },
  {
   "cell_type": "markdown",
   "id": "e8868338-e0e0-48a4-889b-2c763d6ec093",
   "metadata": {},
   "source": [
    "#### load general info about conference\n",
    "\n",
    "NOTE:  if you switch files you might run into a byte recognition error:  UnicodeDecodeError: 'utf-8' codec can't decode byte 0xa0 in position 3519: invalid start byte.  This is fixed with windows-1252 encoding.\n",
    "\n",
    "Your CSV files must be totally clean from any funny characters.  0xa0 is a funky space character."
   ]
  },
  {
   "cell_type": "code",
   "execution_count": 14,
   "id": "939b820b-b5c0-4e50-bac9-c88012796ebf",
   "metadata": {},
   "outputs": [],
   "source": [
    "# # general_info_loader = CSVLoader(\"csv-files/dtw24-conference-general-info-csv.csv\", encoding='windows-1252')\n",
    "# general_info_loader = CSVLoader(\"csv-files/concierge-question-answer-list.csv\", encoding='windows-1252')\n"
   ]
  },
  {
   "cell_type": "markdown",
   "id": "e54accae-32df-40a1-8b37-680f0744e79e",
   "metadata": {},
   "source": [
    "### Add Powerpoint files"
   ]
  },
  {
   "cell_type": "markdown",
   "id": "06c571fa-5084-4a76-b61a-37e3a847051a",
   "metadata": {},
   "source": [
    "#### load powerpoint file here"
   ]
  },
  {
   "cell_type": "code",
   "execution_count": 15,
   "id": "7b677362-bd0b-45bf-8689-003c82aa7fe0",
   "metadata": {},
   "outputs": [],
   "source": [
    "# ppt_loader = UnstructuredPowerPointLoader(\"ppt-files/pan-dell-gen-ai-ppt-3pages.pptx\")"
   ]
  },
  {
   "cell_type": "markdown",
   "id": "fab65756-9a9e-49a0-8cb0-e2a20dab1c1f",
   "metadata": {},
   "source": [
    "### Merge all dataset contents into one set of docs\n",
    "\n",
    "NOTE:  if there is an error with the merge, especially when loading CSV files, check and see if there are any funny characters in the file like bad double quotes, or bad apostrophes, or bad ASCII characters.  Open VIM and check your file and remove any unusual characters."
   ]
  },
  {
   "cell_type": "code",
   "execution_count": 16,
   "id": "354c76ea-50ec-4de4-b316-0d798182b70d",
   "metadata": {},
   "outputs": [],
   "source": [
    "# from langchain_community.document_loaders.merge import MergedDataLoader\n",
    "\n",
    "# # loader_all = MergedDataLoader(loaders=[events_loader, general_info_loader, pdf_dir_loader, ppt_loader])\n",
    "\n",
    "# loader_all = MergedDataLoader(loaders=[\n",
    "#     events_loader, \n",
    "#     general_info_loader, \n",
    "#     pdf_dir_loader, \n",
    "#     ppt_loader,\n",
    "# ])\n",
    "\n",
    "# docs = loader_all.load()\n",
    "# len(docs)"
   ]
  },
  {
   "cell_type": "markdown",
   "id": "0bf945d8-2c0d-48d3-b08f-31f71fd61d34",
   "metadata": {},
   "source": [
    "### Declare embedding model to use\n",
    "\n",
    "Use Instruct model to split text intelligently"
   ]
  },
  {
   "cell_type": "code",
   "execution_count": 17,
   "id": "ad384a01-6147-4251-abfe-2329b7bb3f16",
   "metadata": {},
   "outputs": [
    {
     "name": "stdout",
     "output_type": "stream",
     "text": [
      "load INSTRUCTOR_Transformer\n"
     ]
    },
    {
     "name": "stderr",
     "output_type": "stream",
     "text": [
      "/home/demo/miniconda3/envs/rag/lib/python3.10/site-packages/torch/_utils.py:831: UserWarning: TypedStorage is deprecated. It will be removed in the future and UntypedStorage will be the only storage class. This should only matter to you if you are using storages directly.  To access UntypedStorage directly, use tensor.untyped_storage() instead of tensor.storage()\n",
      "  return self.fget.__get__(instance, owner)()\n"
     ]
    },
    {
     "name": "stdout",
     "output_type": "stream",
     "text": [
      "max_seq_length  512\n"
     ]
    }
   ],
   "source": [
    "embeddings = HuggingFaceInstructEmbeddings(\n",
    "    model_name=\"hkunlp/instructor-large\", model_kwargs={\"device\": DEVICE}\n",
    ")"
   ]
  },
  {
   "cell_type": "markdown",
   "id": "861a0824-cb0b-476a-83aa-b667481be306",
   "metadata": {},
   "source": [
    "### Chunk text\n",
    "\n",
    "<b>chunk size large</b>:  If you want to provide large text overviews and summaries in your responses - appropriate for content creation tasks - then a large chunk size is helpful.  800 or higher.\n",
    "\n",
    "<b>chunk size small</b>:  If you are looking for specific answers based on extracted content from your knowledge base, a smaller chunk size is better.  Smaller than 800.\n",
    "\n",
    "<b>chunk overlap</b>:  If the paragraphs of content in your PDFs often refer to previous content in the document, like a large whitepaper, you might want to have a good size overlap.  128 or higher, this is totally up to the content.\n",
    "\n",
    "https://dev.to/peterabel/what-chunk-size-and-chunk-overlap-should-you-use-4338"
   ]
  },
  {
   "cell_type": "code",
   "execution_count": 18,
   "id": "96d8efbb-ad52-4405-ab9f-a1d0d2c6cecd",
   "metadata": {},
   "outputs": [],
   "source": [
    "# # text_splitter = RecursiveCharacterTextSplitter(chunk_size=512, chunk_overlap=32)\n",
    "\n",
    "# text_splitter = CharacterTextSplitter(chunk_size=512, chunk_overlap=0)\n",
    "# texts = text_splitter.split_documents(docs)\n",
    "# len(texts)"
   ]
  },
  {
   "cell_type": "markdown",
   "id": "63daf97c-4329-4eb9-a71d-d8d167cdac8e",
   "metadata": {},
   "source": [
    "### Create the vector database\n",
    "- take converted embeddings and place them into vector db\n",
    "- stored locally on prem\n",
    "- NOTE IF YOU GET A FILE HANDLER ERROR RELATED TO HNSWLIB do the following:\n",
    "- pip uninstall hnswlib\n",
    "- \n",
    "pip uninstall chroma-hnswli\n",
    "- \n",
    "pip install chroma-hnswlib"
   ]
  },
  {
   "cell_type": "code",
   "execution_count": 19,
   "id": "f66d7b58-24c6-4ba5-beea-74c8c7fe7c22",
   "metadata": {},
   "outputs": [],
   "source": [
    "# %%time\n",
    "# vectordb = Chroma.from_documents(texts, embeddings, persist_directory=\"db2\")\n",
    "# print('\\n' + 'Time to complete:')"
   ]
  },
  {
   "cell_type": "code",
   "execution_count": 20,
   "id": "98b18985-3e4d-4782-8e5d-ed7bff178e62",
   "metadata": {},
   "outputs": [],
   "source": [
    "# # ### Load vector db if you've already created it --- comment this out and uncomment the above loader, splitter cells to create new vector db\n",
    "\n",
    "vectordb = Chroma(persist_directory=\"./db2\", embedding_function=embeddings)"
   ]
  },
  {
   "cell_type": "markdown",
   "id": "01bb7dd6-2fea-49b6-81d9-0915f452a4e0",
   "metadata": {},
   "source": [
    "#### Get unique files embedded into vectordb"
   ]
  },
  {
   "cell_type": "code",
   "execution_count": 21,
   "id": "6233e686-c9e5-41af-8f23-b7bcc5c606f6",
   "metadata": {},
   "outputs": [],
   "source": [
    "## get list of all file URLs in vector db\n",
    "\n",
    "def get_unique_files():\n",
    "    \n",
    "    db = vectordb\n",
    "    print(\"\\nEmbedding keys:\", db.get().keys())\n",
    "    print(\"\\nNumber of embedded docs:\", len(db.get()[\"ids\"]))\n",
    "    \n",
    "    # Print the list of source files\n",
    "    # for x in range(len(db.get()[\"ids\"])):\n",
    "    #     # print(db.get()[\"metadatas\"][x])\n",
    "    #     doc = db.get()[\"metadatas\"][x]\n",
    "    #     source = doc[\"source\"]\n",
    "    #     print(source)\n",
    "    \n",
    "    # db.get()\n",
    "    \n",
    "    file_list = []\n",
    "    \n",
    "    for x in range(len(db.get()[\"ids\"])):\n",
    "        doc = db.get()[\"metadatas\"][x]\n",
    "        source = doc[\"source\"]\n",
    "        # print(source)\n",
    "        file_list.append(source)\n",
    "        \n",
    "    ### Set only stores a value once even if it is inserted more than once.\n",
    "    list_set = set(file_list)\n",
    "    unique_list = (list(list_set))\n",
    "\n",
    "    print(\"\\nList of unique files in db:\\n\")\n",
    "    for unique_file in unique_list:\n",
    "        print(unique_file)\n",
    "\n",
    "    pretty_files = json.dumps(unique_list, indent=4, default=str)\n",
    "\n",
    "    return pretty_files\n"
   ]
  },
  {
   "cell_type": "code",
   "execution_count": 22,
   "id": "890185d1-16c2-44df-9248-f2bbbddb8a9d",
   "metadata": {},
   "outputs": [],
   "source": [
    "# get_unique_files()"
   ]
  },
  {
   "cell_type": "markdown",
   "id": "cb479809-eb88-4862-8cb3-d352c2752de7",
   "metadata": {},
   "source": [
    "#### Prepare Instruct model\n",
    "\n",
    "The 'instruct' version of a has been fine-tuned to be able to follow prompted instructions. These models 'expect' to be asked to do something.  They are good at performing tasks, rather than chatting. "
   ]
  },
  {
   "cell_type": "code",
   "execution_count": 23,
   "id": "f95f9a50-c55b-4677-9577-ac186e31ac8e",
   "metadata": {},
   "outputs": [],
   "source": [
    "model_id = \"mistralai/Mistral-7B-Instruct-v0.2\"\n",
    "\n",
    "# model = AutoModelForCausalLM.from_pretrained(model_id, torch_dtype=torch.float16, device_map=\"cuda\")"
   ]
  },
  {
   "cell_type": "markdown",
   "id": "0a71be0b-fd0c-4671-9488-3f1bc7e304d7",
   "metadata": {},
   "source": [
    "#### Quantization Configuration\n",
    "Great video on this:  https://www.youtube.com/watch?v=eovBbABk3hw&ab_channel=Rohan-Paul-AI\n",
    "\n",
    "Bitsandbytes stores weights in 4 bits, the computations still happen in 16 or 32 bit depending on bfloat choice.\n"
   ]
  },
  {
   "cell_type": "code",
   "execution_count": 24,
   "id": "295155ea-9604-4d76-859e-40c5900a3a7f",
   "metadata": {},
   "outputs": [
    {
     "name": "stdout",
     "output_type": "stream",
     "text": [
      "Requirement already satisfied: bitsandbytes==0.43.1 in /home/demo/miniconda3/envs/rag/lib/python3.10/site-packages (0.43.1)\n",
      "Requirement already satisfied: torch in /home/demo/miniconda3/envs/rag/lib/python3.10/site-packages (from bitsandbytes==0.43.1) (2.1.0)\n",
      "Requirement already satisfied: numpy in /home/demo/miniconda3/envs/rag/lib/python3.10/site-packages (from bitsandbytes==0.43.1) (1.26.4)\n",
      "Requirement already satisfied: filelock in /home/demo/miniconda3/envs/rag/lib/python3.10/site-packages (from torch->bitsandbytes==0.43.1) (3.13.1)\n",
      "Requirement already satisfied: typing-extensions in /home/demo/miniconda3/envs/rag/lib/python3.10/site-packages (from torch->bitsandbytes==0.43.1) (4.9.0)\n",
      "Requirement already satisfied: sympy in /home/demo/miniconda3/envs/rag/lib/python3.10/site-packages (from torch->bitsandbytes==0.43.1) (1.12)\n",
      "Requirement already satisfied: networkx in /home/demo/miniconda3/envs/rag/lib/python3.10/site-packages (from torch->bitsandbytes==0.43.1) (3.2.1)\n",
      "Requirement already satisfied: jinja2 in /home/demo/miniconda3/envs/rag/lib/python3.10/site-packages (from torch->bitsandbytes==0.43.1) (3.1.2)\n",
      "Requirement already satisfied: fsspec in /home/demo/miniconda3/envs/rag/lib/python3.10/site-packages (from torch->bitsandbytes==0.43.1) (2023.10.0)\n",
      "Requirement already satisfied: nvidia-cuda-nvrtc-cu12==12.1.105 in /home/demo/miniconda3/envs/rag/lib/python3.10/site-packages (from torch->bitsandbytes==0.43.1) (12.1.105)\n",
      "Requirement already satisfied: nvidia-cuda-runtime-cu12==12.1.105 in /home/demo/miniconda3/envs/rag/lib/python3.10/site-packages (from torch->bitsandbytes==0.43.1) (12.1.105)\n",
      "Requirement already satisfied: nvidia-cuda-cupti-cu12==12.1.105 in /home/demo/miniconda3/envs/rag/lib/python3.10/site-packages (from torch->bitsandbytes==0.43.1) (12.1.105)\n",
      "Requirement already satisfied: nvidia-cudnn-cu12==8.9.2.26 in /home/demo/miniconda3/envs/rag/lib/python3.10/site-packages (from torch->bitsandbytes==0.43.1) (8.9.2.26)\n",
      "Requirement already satisfied: nvidia-cublas-cu12==12.1.3.1 in /home/demo/miniconda3/envs/rag/lib/python3.10/site-packages (from torch->bitsandbytes==0.43.1) (12.1.3.1)\n",
      "Requirement already satisfied: nvidia-cufft-cu12==11.0.2.54 in /home/demo/miniconda3/envs/rag/lib/python3.10/site-packages (from torch->bitsandbytes==0.43.1) (11.0.2.54)\n",
      "Requirement already satisfied: nvidia-curand-cu12==10.3.2.106 in /home/demo/miniconda3/envs/rag/lib/python3.10/site-packages (from torch->bitsandbytes==0.43.1) (10.3.2.106)\n",
      "Requirement already satisfied: nvidia-cusolver-cu12==11.4.5.107 in /home/demo/miniconda3/envs/rag/lib/python3.10/site-packages (from torch->bitsandbytes==0.43.1) (11.4.5.107)\n",
      "Requirement already satisfied: nvidia-cusparse-cu12==12.1.0.106 in /home/demo/miniconda3/envs/rag/lib/python3.10/site-packages (from torch->bitsandbytes==0.43.1) (12.1.0.106)\n",
      "Requirement already satisfied: nvidia-nccl-cu12==2.18.1 in /home/demo/miniconda3/envs/rag/lib/python3.10/site-packages (from torch->bitsandbytes==0.43.1) (2.18.1)\n",
      "Requirement already satisfied: nvidia-nvtx-cu12==12.1.105 in /home/demo/miniconda3/envs/rag/lib/python3.10/site-packages (from torch->bitsandbytes==0.43.1) (12.1.105)\n",
      "Requirement already satisfied: triton==2.1.0 in /home/demo/miniconda3/envs/rag/lib/python3.10/site-packages (from torch->bitsandbytes==0.43.1) (2.1.0)\n",
      "Requirement already satisfied: nvidia-nvjitlink-cu12 in /home/demo/miniconda3/envs/rag/lib/python3.10/site-packages (from nvidia-cusolver-cu12==11.4.5.107->torch->bitsandbytes==0.43.1) (12.3.52)\n",
      "Requirement already satisfied: MarkupSafe>=2.0 in /home/demo/miniconda3/envs/rag/lib/python3.10/site-packages (from jinja2->torch->bitsandbytes==0.43.1) (2.1.3)\n",
      "Requirement already satisfied: mpmath>=0.19 in /home/demo/miniconda3/envs/rag/lib/python3.10/site-packages (from sympy->torch->bitsandbytes==0.43.1) (1.3.0)\n",
      "Note: you may need to restart the kernel to use updated packages.\n"
     ]
    }
   ],
   "source": [
    "%pip install bitsandbytes==0.43.1"
   ]
  },
  {
   "cell_type": "code",
   "execution_count": 25,
   "id": "65175e6f-c8c5-4d85-a73b-0a71111cac6f",
   "metadata": {},
   "outputs": [],
   "source": [
    "from transformers import BitsAndBytesConfig"
   ]
  },
  {
   "cell_type": "code",
   "execution_count": 26,
   "id": "f53199ab-8f74-4cbf-b1df-c5d3af9de352",
   "metadata": {},
   "outputs": [
    {
     "name": "stderr",
     "output_type": "stream",
     "text": [
      "/home/demo/miniconda3/envs/rag/lib/python3.10/site-packages/huggingface_hub/file_download.py:1132: FutureWarning: `resume_download` is deprecated and will be removed in version 1.0.0. Downloads always resume when possible. If you want to force a new download, use `force_download=True`.\n",
      "  warnings.warn(\n"
     ]
    },
    {
     "data": {
      "application/vnd.jupyter.widget-view+json": {
       "model_id": "a761451926964cacb7042ef4b464c678",
       "version_major": 2,
       "version_minor": 0
      },
      "text/plain": [
       "Loading checkpoint shards:   0%|          | 0/3 [00:00<?, ?it/s]"
      ]
     },
     "metadata": {},
     "output_type": "display_data"
    }
   ],
   "source": [
    "bnb_config = BitsAndBytesConfig(\n",
    "    load_in_4bit=True,\n",
    "    bnb_4bit_use_double_quant=True,\n",
    "    bnb_4bit_quant_type=\"nf4\",\n",
    "    bnb_4bit_compute_dtype=torch.bfloat16\n",
    ")\n",
    "\n",
    "model = AutoModelForCausalLM.from_pretrained(\n",
    "    model_id,\n",
    "#    load_in_4bit=True,\n",
    "#    torch_dtype=torch.bfloat16,\n",
    "    quantization_config=bnb_config,\n",
    "    device_map=\"auto\",\n",
    "\n",
    ")"
   ]
  },
  {
   "cell_type": "markdown",
   "id": "16836a2b-c7dd-414f-a027-dbaa938cf02e",
   "metadata": {},
   "source": [
    "#### Initialize tokenizer"
   ]
  },
  {
   "cell_type": "code",
   "execution_count": 27,
   "id": "972bd073-54ea-429e-a86b-2e26e2aab9ae",
   "metadata": {},
   "outputs": [],
   "source": [
    "tokenizer = AutoTokenizer.from_pretrained(model_id)\n",
    "tokenizer.use_default_system_prompt = False\n",
    "\n",
    "tokenizer.pad_token = tokenizer.eos_token\n",
    "tokenizer.padding_side = \"right\""
   ]
  },
  {
   "cell_type": "markdown",
   "id": "b596d6ad-f0d2-4ae2-9456-c74b185d97d5",
   "metadata": {},
   "source": [
    "#### Check GPU memory usage after model load"
   ]
  },
  {
   "cell_type": "code",
   "execution_count": 28,
   "id": "49e4dbbc-9b1c-4b23-b83c-ef4c69244f69",
   "metadata": {},
   "outputs": [
    {
     "name": "stdout",
     "output_type": "stream",
     "text": [
      "pid, process_name, used_gpu_memory [MiB]\r\n",
      "6832, /home/demo/miniconda3/envs/rag/bin/python, 4836 MiB\r\n"
     ]
    }
   ],
   "source": [
    "!nvidia-smi --query-compute-apps=pid,process_name,used_memory --format=csv"
   ]
  },
  {
   "cell_type": "markdown",
   "id": "e785c93a-5465-47b9-8c64-0b578166ef3f",
   "metadata": {},
   "source": [
    "#### Print interesting metrics"
   ]
  },
  {
   "cell_type": "code",
   "execution_count": 29,
   "id": "d3c2294c-7ada-4c4b-81b6-eca2341ce9e4",
   "metadata": {},
   "outputs": [],
   "source": [
    "def get_model_info ():\n",
    "\n",
    "    model_details = (\n",
    "    \n",
    "    f\"\\nGeneral Model Info:\\n\"\n",
    "    f\"\\n-------------------\\n\"\n",
    "    \n",
    "    f\"\\n Model_id: {model_id} \\n\"\n",
    "    f\"\\n Model config: {model} \\n\"\n",
    "\n",
    "    f\"\\nGeneral Embeddings Info:\\n\"\n",
    "    f\"\\n-------------------\\n\"\n",
    "\n",
    "    f\"\\n Embeddings model config: {embeddings} \\n\" \n",
    "\n",
    "    )\n",
    "        \n",
    "    return model_details\n",
    "    \n"
   ]
  },
  {
   "cell_type": "code",
   "execution_count": 30,
   "id": "895bb115-2330-4a55-84c6-28fbba31ef19",
   "metadata": {},
   "outputs": [],
   "source": [
    "# get_model_info()"
   ]
  },
  {
   "cell_type": "markdown",
   "id": "4967d50a-d145-4ad8-8c82-05a5039d9835",
   "metadata": {},
   "source": [
    "### Constants\n",
    "\n",
    "Used to initialize the advanced settings sliders in the GUI"
   ]
  },
  {
   "cell_type": "code",
   "execution_count": 31,
   "id": "0fa0ee97-3c43-4949-a721-8aed3b736dad",
   "metadata": {},
   "outputs": [],
   "source": [
    "MAX_MAX_NEW_TOKENS = 2048\n",
    "DEFAULT_MAX_NEW_TOKENS = 1024\n",
    "#MAX_INPUT_TOKEN_LENGTH = int(os.getenv(\"MAX_INPUT_TOKEN_LENGTH\", \"4096\"))"
   ]
  },
  {
   "cell_type": "markdown",
   "id": "213abb5a-8706-432f-9912-f02436e7b178",
   "metadata": {},
   "source": [
    "### Chat Memory\n",
    "To have a positive, realistic chat experience the LLM needs to access a form of memory.  Memory for the LLM chat is basically a copy of the chat history that is given to the LLM as reference.  "
   ]
  },
  {
   "cell_type": "code",
   "execution_count": 32,
   "id": "420082c5-f432-4007-8feb-e3d60cdcb685",
   "metadata": {},
   "outputs": [],
   "source": [
    "####### MEMORY PARAMETERS ###########\n",
    "\n",
    "memory = ConversationBufferWindowMemory(\n",
    "    k=5, ## number of interactions to keep in memory\n",
    "    memory_key=\"chat_history\",\n",
    "    return_messages=True,  ## formats the chat_history into HumanMessage and AImessage entity list\n",
    "    input_key=\"query\",   ### for straight retrievalQA chain\n",
    "    output_key=\"result\"   ### for straight retrievalQA chain\n",
    "\n",
    ")"
   ]
  },
  {
   "cell_type": "markdown",
   "id": "2dac14d2-359e-4741-892e-cba990abe040",
   "metadata": {},
   "source": [
    "### Main Process Input Function\n",
    "\n",
    "This is the function that orchestrates all the major components such as:\n",
    "- user variable input from the GUI\n",
    "- prompt template\n",
    "- pipeline setup\n",
    "- chain setup\n",
    "- response output"
   ]
  },
  {
   "cell_type": "code",
   "execution_count": 33,
   "id": "347e5d7b-738c-41fc-af67-3770632a94ce",
   "metadata": {},
   "outputs": [],
   "source": [
    "### this chunk works, however it gives constant clarifying questions... annoying but the responses are pretty decent sometimes.\n",
    "def process_input(\n",
    "    question,\n",
    "    chat_history,\n",
    "    rag_toggle,\n",
    "    system_prompt,\n",
    "    source_docs_qty,\n",
    "    max_new_tokens,\n",
    "    temperature,\n",
    "    top_p,\n",
    "    top_k,\n",
    "    repetition_penalty\n",
    "                 ):\n",
    "\n",
    "#     print(\"1\", question)\n",
    "#     print(\"2\", chat_history)\n",
    "#     print(\"3\", rag_toggle)\n",
    "#     print(\"4\", system_prompt)\n",
    "#     print(\"5\", source_docs_qty)\n",
    "    \n",
    "    \n",
    "    \n",
    "    global response\n",
    "\n",
    "    \n",
    "    ### system prompt variable is typed in by the user in Gradio advanced settings text box and sent into process_input function\n",
    "    ### This is Llama2 prompt format \n",
    "    ### https://huggingface.co/blog/llama2#how-to-prompt-llama-2\n",
    "    \n",
    "    prompt_template_rag = \"\\n\\n [INST] <<SYS>>\" + system_prompt + \"<</SYS>>\\n\\n Context: {context} \\n\\n  Question: {question} \\n\\n[/INST]\".strip()\n",
    "\n",
    "\n",
    "    PROMPT_rag = PromptTemplate(template=prompt_template_rag, input_variables=[\"context\", \"question\"])\n",
    "\n",
    "\n",
    "    prompt_template_llm = \"\\n\\n [INST] <<SYS>>\" + system_prompt + \"<</SYS>>\\n\\n Question: {question} \\n\\n[/INST]\".strip()\n",
    "\n",
    "\n",
    "    PROMPT_llm = PromptTemplate(template=prompt_template_llm, input_variables=[\"question\"])\n",
    "    \n",
    "        \n",
    "    \n",
    "    ####### STREAMER FOR TEXT OUTPUT ############\n",
    "    \n",
    "    streamer = TextIteratorStreamer(tokenizer, timeout=10.0, skip_prompt=True, skip_special_tokens=True)\n",
    "\n",
    "    ####### PIPELINE ARGUMENTS FOR THE LLM ############\n",
    "    ### more info at https://towardsdatascience.com/decoding-strategies-in-large-language-models-9733a8f70539\n",
    "    \n",
    "    text_pipeline = pipeline(\n",
    "    \"text-generation\",\n",
    "    model=model,\n",
    "    tokenizer=tokenizer,\n",
    "    do_sample=True,\n",
    "    streamer=streamer,\n",
    "    max_new_tokens=max_new_tokens,\n",
    "    top_p=top_p,\n",
    "    top_k=top_k,\n",
    "    temperature=temperature,\n",
    "    repetition_penalty=repetition_penalty,\n",
    "    )\n",
    "\n",
    "    ####### ATTACH PIPELINE TO LLM ############\n",
    "\n",
    "    llm = HuggingFacePipeline(pipeline=text_pipeline)\n",
    "        \n",
    "\n",
    "    llmchain = LLMChain(llm=llm, prompt=PROMPT_llm)\n",
    "\n",
    "\n",
    "    ###### RETRIEVAL QA FROM CHAIN TYPE PARAMS ###########\n",
    "    qa_chain = RetrievalQA.from_chain_type(\n",
    "        llm=llm,\n",
    "        chain_type=\"stuff\",\n",
    "        chain_type_kwargs={\"prompt\": PROMPT_rag},\n",
    "#        retriever=vectordb.as_retriever(search_type=\"similarity\", search_kwargs={\"k\": 3}),\n",
    "        retriever=vectordb.as_retriever(search_type=\"similarity\", search_kwargs={\"k\": source_docs_qty}),\n",
    "        memory=memory,\n",
    "        verbose=True,\n",
    "        return_source_documents = True,\n",
    "        )\n",
    "\n",
    "    \n",
    "    \n",
    "    #########################\n",
    "    if rag_toggle:\n",
    "    \n",
    "        response = qa_chain({\"query\": question})\n",
    "\n",
    "    else:\n",
    "    \n",
    "        response = llmchain({\"question\": question})\n",
    "        \n",
    "\n",
    "    #########################    \n",
    "    \n",
    "\n",
    "    ####### MANAGE OUTPUT ARRAY FROM STREAMER ###########\n",
    "    ## whatever is in streamer, the positional argument 'text', take it and join it all together\n",
    "    ## yield allows streaming in Gradio\n",
    "    \n",
    "    outputs = []\n",
    "    for text in streamer:\n",
    "        outputs.append(text)\n",
    "        yield \"\".join(outputs)\n",
    "\n",
    "\n",
    "    return response"
   ]
  },
  {
   "cell_type": "markdown",
   "id": "7cbf5261-b7c1-4ca1-8980-81a92b15cad1",
   "metadata": {},
   "source": [
    "### Show sources function\n",
    "\n",
    "Sources are critical to demonstrate the LLMs response is true to the source and not hallucinating.  This function using the global \"response\" variable created in the process_input function. This content is parsed with jsondumps and shown in the GUI textbox at the very bottom. "
   ]
  },
  {
   "cell_type": "code",
   "execution_count": 34,
   "id": "ca762d46-d8ae-4963-8e8c-dad9127befda",
   "metadata": {},
   "outputs": [],
   "source": [
    "def get_sources():\n",
    "\n",
    "    res_dict = {\n",
    "        \"answer_from_llm\": response[\"result\"],   ### looks up result key from raw output\n",
    "    }\n",
    "    \n",
    "    res_dict[\"source_documents\"] = []    ### create an empty array for source documents key front result dict\n",
    "\n",
    "    for each_source in response[\"source_documents\"]:\n",
    "        res_dict[\"source_documents\"].append({\n",
    "            \"page_content\": each_source.page_content,\n",
    "            \"metadata\":  each_source.metadata\n",
    "        })\n",
    "\n",
    "    # print(res_dict[\"answer_from_llm\"])  ### PRINT JUST THE RAW ANSWER FROM LLM\n",
    "    \n",
    "    pretty_sources = json.dumps(res_dict[\"source_documents\"], indent=4, default=str)\n",
    "\n",
    "    print(pretty_sources)\n",
    "    \n",
    "    return pretty_sources\n"
   ]
  },
  {
   "cell_type": "markdown",
   "id": "d4f9388d-8f46-44d9-a153-c2b34bc8434b",
   "metadata": {},
   "source": [
    "### Build the Gradio GUI\n",
    "- Gradio is a quick, highly customizable UI package for your python applications:  https://www.gradio.app/\n",
    "- Combined with langchain, gradio can trigger multiple chains for a wide variety of user interactions.\n",
    "\n",
    "<b>NOTE</b>:  Gradio will output variables in the order they appear here in the interface object. There is no declaration of these variables explicitly in the creation of each one when it is sent to the processing function.  i.e. slider for temperature is the 3rd variable in the list.  It is passed as a positional argument, not as \"temperature\" variable explicitly.  You have to take those positional arguments that gradio passes out (from the user input at the browser) as positional input into your chat processing function.  \n",
    "\n",
    "#### Access the UI\n",
    "- The provided code forces Gradio to create a small web server on the local host the notebook is being served from\n",
    "- Gradio will provide a URL that can be used in a web browser, that must be accessed from within the same network, so you may need to access it using a jumphost.  In this case we used a Windows jump host and Chrome browser on the same network to access the page."
   ]
  },
  {
   "cell_type": "code",
   "execution_count": 35,
   "id": "537952ee-d0b4-4bc1-a721-9cc7013f086c",
   "metadata": {},
   "outputs": [],
   "source": [
    "chat_interface = gr.ChatInterface(\n",
    "    \n",
    "    ### call the main process function above\n",
    "    \n",
    "    fn=process_input, \n",
    "\n",
    "    ### format the dialogue box, add company avatar image\n",
    "    \n",
    "    chatbot = gr.Chatbot(\n",
    "        bubble_full_width=False,\n",
    "        avatar_images=(None, (os.path.join(os.path.dirname(\"__file__\"), \"images/dell-logo-sm.jpg\"))),\n",
    "    ),\n",
    "\n",
    "    \n",
    "    \n",
    "    additional_inputs=[\n",
    "        \n",
    "        \n",
    "        gr.Checkbox(label=\"Use RAG\", \n",
    "                    value=True, \n",
    "                    info=\"Query LLM directly or query the RAG chain\"\n",
    "                   ),\n",
    "        \n",
    "        \n",
    "        gr.Textbox(label=\"Persona and role for system prompt:\", \n",
    "                   lines=3, \n",
    "                   value=\"\"\"Your name is Andie, a helpful concierge at the Dell Tech World conference held in Las Vegas.\\\n",
    "                   Please respond as if you were talking to someone using spoken English language.\\\n",
    "                   The first word of your response should never be Answer:.\\\n",
    "                   You are given a list of helpful information about the conference.\\\n",
    "                   Your goal is to use the given information to answer attendee questions.\\\n",
    "                   Please do not provide any additional information other than what is needed to directly answer the question.\\\n",
    "                   You do not need to show or refer to your sources in your responses.\\\n",
    "                   Please do not make up information that is not available from the given data.\\\n",
    "                   If you can't find the specific information from the given context, please say that you don't know.\\\n",
    "                   Please respond in a helpful, concise manner.\\\n",
    "                   \"\"\"\n",
    "\n",
    "                  ),\n",
    "\n",
    "        gr.Slider(\n",
    "            label=\"Number of source docs\",\n",
    "            minimum=1,\n",
    "            maximum=10,\n",
    "            step=1,\n",
    "            value=3,\n",
    "        ),\n",
    "        \n",
    "        gr.Slider(\n",
    "            label=\"Max new words (tokens)\",\n",
    "            minimum=1,\n",
    "            maximum=MAX_MAX_NEW_TOKENS,\n",
    "            step=1,\n",
    "            value=DEFAULT_MAX_NEW_TOKENS,\n",
    "        ),\n",
    "        gr.Slider(\n",
    "            label=\"Creativity (Temperature), higher is more creative, lower is less creative:\",\n",
    "            minimum=0.1,\n",
    "            maximum=1.99,\n",
    "            step=0.1,\n",
    "            value=0.6,\n",
    "        ),\n",
    "        gr.Slider(\n",
    "            label=\"Top probable tokens (Nucleus sampling top-p), affects creativity:\",\n",
    "            minimum=0.05,\n",
    "            maximum=1.0,\n",
    "            step=0.05,\n",
    "            value=0.9,\n",
    "        ),\n",
    "        gr.Slider(\n",
    "            label=\"Number of top tokens to choose from (Top-k):\",\n",
    "            minimum=1,\n",
    "            maximum=100,\n",
    "            step=1,\n",
    "            value=50,\n",
    "        ),\n",
    "        gr.Slider(\n",
    "            label=\"Repetition penalty:\",\n",
    "            minimum=1.0,\n",
    "            maximum=1.99,\n",
    "            step=0.05,\n",
    "            value=1.2,\n",
    "        ),\n",
    "    ],\n",
    "\n",
    "    \n",
    "    stop_btn=None,\n",
    "    \n",
    "    examples=[\n",
    "\n",
    "        ## events csv content\n",
    "        [\"Which booths are found in the showcase floor at Dell Technologies World 2024?\"],\n",
    "        [\"What are some common use cases for GenAI?\"],\n",
    "        [\"Where is the Charting the Generative AI landscape in healthcare session going to be held?\"],\n",
    "        [\"Who is hosting the Understanding GenAI as a workload in a multicloud world session?\"],\n",
    "        [\"What enterprise Retrieval Augmented Generation solutions does Dell offer?\"],\n",
    "\n",
    "        ## Powerpoint content\n",
    "        [\"What are some of the results of the Dell Generative AI Pulse Survey?\"],\n",
    "        \n",
    "\n",
    "        ## pdf content, content creation, workplace productivity\n",
    "        [\"What is Dell's ESG policy in one sentence?\"],\n",
    "        [\"Would you please write a professional email response to John explaining the benefits of Dell Powerflex.\"],\n",
    "        [\"Create a new advertisement for Dell Technologies PowerEdge servers. Please include an interesting headline and product description.\"],\n",
    "        [\"Create 3 engaging tweets highlighting the key advantages of using Dell Technologies solutions for Generative AI.\"],\n",
    "        [\"What are the key steps in designing a secure and scalable on-premises solution for GenAI workloads with Dell?\"],\n",
    "        [\"Summarize the significant developments from Dell's latest SEC filings.\"],\n",
    "\n",
    "    ],\n",
    "\n",
    ")\n"
   ]
  },
  {
   "cell_type": "code",
   "execution_count": 36,
   "id": "b7d4fefd-d2b6-4242-871a-64476aea55cb",
   "metadata": {},
   "outputs": [],
   "source": [
    "###  SET GRADIO INTERFACE THEME (https://www.gradio.app/guides/theming-guide)\n",
    "\n",
    "#theme = gr.themes.Soft()\n",
    "#theme = gr.themes.Glass()\n",
    "#theme = gr.themes.Base()\n",
    "\n",
    "theme = gr.themes.Default()"
   ]
  },
  {
   "cell_type": "markdown",
   "id": "9b9d8dca-5b38-41e7-a963-8d3cf08a3960",
   "metadata": {},
   "source": [
    "#### Tabbed interfaces one for chat one for sources"
   ]
  },
  {
   "cell_type": "code",
   "execution_count": 37,
   "id": "f9f24826-8e4b-4def-9b59-2d2220f3155b",
   "metadata": {},
   "outputs": [],
   "source": [
    "### set width and margins in local css file\n",
    "### set Title in a markdown object at the top, then render the chat interface\n",
    "\n",
    "with gr.Blocks(theme=theme, css=\"style.css\", title=\"RAG Chat CSV PDF PPT\") as demo:\n",
    "    gr.Markdown(\n",
    "    \"\"\"\n",
    "    # Retrieval Digital Assistant\n",
    "    \"\"\")\n",
    "\n",
    "    with gr.Tab(\"Chat Session\"):\n",
    "\n",
    "        chat_interface.render()\n",
    "\n",
    "    with gr.Tab(\"Source Citations\"):\n",
    "            \n",
    "        source_text_box = gr.Textbox(label=\"Reference Sources\")\n",
    "        get_source_button = gr.Button(\"Get Source Content\")\n",
    "        get_source_button.click(fn=get_sources, inputs=None, outputs=source_text_box)\n",
    "\n",
    "\n",
    "    with gr.Tab(\"Database Files\"):\n",
    "\n",
    "\n",
    "        files_text_box = gr.Textbox(label=\"Uploaded Files\")\n",
    "        get_files_button = gr.Button(\"List Uploaded Files\")\n",
    "        get_files_button.click(fn=get_unique_files, inputs=None, outputs=files_text_box)\n",
    "\n",
    "\n",
    "    with gr.Tab(\"Model Info\"):\n",
    "\n",
    "\n",
    "        model_info_text_box = gr.Textbox(label=\"Model Info\")\n",
    "        model_info_button = gr.Button(\"Get Model Info\")\n",
    "        model_info_button.click(fn=get_model_info, inputs=None, outputs=model_info_text_box)\n"
   ]
  },
  {
   "cell_type": "code",
   "execution_count": 38,
   "id": "671fff57-f053-4895-b8eb-65e54ddc0b1d",
   "metadata": {},
   "outputs": [
    {
     "name": "stdout",
     "output_type": "stream",
     "text": [
      "Running on local URL:  http://localhost:7860\n",
      "\n",
      "To create a public link, set `share=True` in `launch()`.\n"
     ]
    },
    {
     "data": {
      "text/html": [
       "<div><iframe src=\"http://localhost:7860/\" width=\"100%\" height=\"500\" allow=\"autoplay; camera; microphone; clipboard-read; clipboard-write;\" frameborder=\"0\" allowfullscreen></iframe></div>"
      ],
      "text/plain": [
       "<IPython.core.display.HTML object>"
      ]
     },
     "metadata": {},
     "output_type": "display_data"
    },
    {
     "name": "stdout",
     "output_type": "stream",
     "text": [
      "IMPORTANT: You are using gradio version 4.27.0, however version 4.29.0 is available, please upgrade.\n",
      "--------\n",
      "IMPORTANT: You are using gradio version 4.27.0, however version 4.29.0 is available, please upgrade.\n",
      "--------\n"
     ]
    },
    {
     "name": "stderr",
     "output_type": "stream",
     "text": [
      "/home/demo/miniconda3/envs/rag/lib/python3.10/site-packages/langchain_core/_api/deprecation.py:117: LangChainDeprecationWarning: The function `__call__` was deprecated in LangChain 0.1.0 and will be removed in 0.2.0. Use invoke instead.\n",
      "  warn_deprecated(\n"
     ]
    },
    {
     "name": "stdout",
     "output_type": "stream",
     "text": [
      "\n",
      "\n",
      "\u001b[1m> Entering new RetrievalQA chain...\u001b[0m\n"
     ]
    },
    {
     "name": "stderr",
     "output_type": "stream",
     "text": [
      "Setting `pad_token_id` to `eos_token_id`:2 for open-end generation.\n"
     ]
    },
    {
     "name": "stdout",
     "output_type": "stream",
     "text": [
      "\n",
      "\u001b[1m> Finished chain.\u001b[0m\n",
      "[\n",
      "    {\n",
      "        \"page_content\": \"Category: Help\\nQuestion: Which booths are found in the showcase floor?\\nAnswer: There are five main areas in the Dell Technologies booth including AI, Modern Data Edge, Modern Workplace, Multicloud and as-a-Service and Edge. There are also neighborhoods for Security and Sustainability.In addition, some of our partners will have booths that you can visit too.\",\n",
      "        \"metadata\": {\n",
      "            \"row\": 2,\n",
      "            \"source\": \"csv-files/concierge-question-answer-list.csv\"\n",
      "        }\n",
      "    },\n",
      "    {\n",
      "        \"page_content\": \"Category: Dell Tech Booth Concierge\\nQuestion: What does the Dell Tech booth offer?\\nAnswer: There is a ton to explore in the Dell Technologies Expo area. There are booths on all the major topics for Dell Technologies -- Edge, Modern Data Center, Modern Work Force, Multicloud and aaS, and AI, as well as areas for Security and Sustainability. Each booth has product information, activities, demos, and even some chances to win some prizes\",\n",
      "        \"metadata\": {\n",
      "            \"row\": 14,\n",
      "            \"source\": \"csv-files/concierge-question-answer-list.csv\"\n",
      "        }\n",
      "    },\n",
      "    {\n",
      "        \"page_content\": \"Category: Dell Tech Booth Concierge\\nQuestion: What's the most popular product or solution showcased in the booth?\\nAnswer: There's a ton to discover, depending on what you are interested in. Some of the biggest interest is around our new infrastructure and PCs that are optimized for AI. Check out the Modern Data Center and Modern Workplace booths for more info!\",\n",
      "        \"metadata\": {\n",
      "            \"row\": 18,\n",
      "            \"source\": \"csv-files/concierge-question-answer-list.csv\"\n",
      "        }\n",
      "    }\n",
      "]\n",
      "\n",
      "Embedding keys: dict_keys(['ids', 'embeddings', 'metadatas', 'documents', 'uris', 'data'])\n",
      "\n",
      "Number of embedded docs: 1588\n",
      "\n",
      "List of unique files in db:\n",
      "\n",
      "pdf-files-infohub/H19975-DRD-Nvidia-RAG.pdf\n",
      "pdf-files-infohub/h18391-powerflex-introduction-to-replication-wp.pdf\n",
      "pdf-files-infohub/PowerEdge-CarbonBlack-security-summary.pdf\n",
      "pdf-files-infohub/poweredge-r650-vs-previous-generation-iops.pdf\n",
      "pdf-files-infohub/h19143-introduction-to-dell-apex-backup-services.pdf\n",
      "pdf-files-infohub/h19739-dell-apex-edge-with-litmus-wp.pdf\n",
      "pdf-files-infohub/PowerEdge-R7625-PERC12-vs-HPE.pdf\n",
      "pdf-files-infohub/dell-SEC-10k-0001571996-22-000009.pdf\n",
      "pdf-files-infohub/apex-block-storage-for-aws-and-microsoft-azure-solution-brief.pdf\n",
      "pdf-files-infohub/PowerEdge-R7525-vGPU-image-classification-0722.pdf\n",
      "pdf-files-infohub/h18794-dell-powerflex-maintenance-modes.pdf\n",
      "pdf-files-infohub/poweredge-mx7000_Deployment-Guide_en-us.pdf\n",
      "pdf-files-infohub/h19725-dvd-for-energy-edge-dg.pdf\n",
      "pdf-files-infohub/dell-SEC-10k-0001571996-21-000007.pdf\n",
      "pdf-files-infohub/h19686-1-DVD-Dell-gen-ai-Nvidia-inferencing.pdf\n",
      "pdf-files-infohub/h19515-powerflex-automation-with-rest-api.pdf\n",
      "csv-files/concierge-question-answer-list.csv\n",
      "pdf-files-infohub/h19751-aiml-platform-on-a-gpu-enabled-dell-apex-private-cloud-with-rancher-prime.pdf\n",
      "pdf-files-infohub/APEX-VDI-vs-Amazon-WorkSpaces-performance-science.pdf\n",
      "pdf-files-infohub/dell-SEC-10k-0001571996-23-000007.pdf\n",
      "pdf-files-infohub/h19789-dell-objectscale-appliance-overview-and-architecture.pdf\n",
      "pdf-files-infohub/h17993-powerscale-cloudpools-and-google-cloud-wp.pdf\n",
      "ppt-files/pan-dell-gen-ai-ppt-3pages.pptx\n",
      "csv-files/events-schedule-dtw24.csv\n",
      "pdf-files-infohub/esg-report-summary.pdf\n",
      "pdf-files-infohub/PowerFlex_VMware_Horizon_VDI_RA_000073.pdf\n"
     ]
    },
    {
     "name": "stderr",
     "output_type": "stream",
     "text": [
      "Setting `pad_token_id` to `eos_token_id`:2 for open-end generation.\n"
     ]
    },
    {
     "name": "stdout",
     "output_type": "stream",
     "text": [
      "\n",
      "\n",
      "\u001b[1m> Entering new RetrievalQA chain...\u001b[0m\n",
      "\n",
      "\u001b[1m> Finished chain.\u001b[0m\n",
      "[\n",
      "    {\n",
      "        \"page_content\": \"\\u00ef\\u00bb\\u00bfEvent Name or Other Category: Charting the Generative AI landscape in healthcare\\nHost Team: Events\\nSpeaker: Alex Long;George Morris;Jonathan Huang\\nLocation: Marcello 4403-4404\\nEvent Category/Type: Breakout\\nDate: 5/20/2024\\nTime start: 4:30:00 PM\\nTime end: 5:30:00 PM\",\n",
      "        \"metadata\": {\n",
      "            \"row\": 1,\n",
      "            \"source\": \"csv-files/events-schedule-dtw24.csv\"\n",
      "        }\n",
      "    },\n",
      "    {\n",
      "        \"page_content\": \"\\u00ef\\u00bb\\u00bfEvent Name or Other Category: Pioneering trends in Generative AI\\nHost Team: Events\\nSpeaker: Francisco Aguirre\\nLocation: Marcello 4503-4504\\nEvent Category/Type: Breakout\\nDate: 5/20/2024\\nTime start: 12:00:00 PM\\nTime end: 1:00:00 PM\",\n",
      "        \"metadata\": {\n",
      "            \"row\": 112,\n",
      "            \"source\": \"csv-files/events-schedule-dtw24.csv\"\n",
      "        }\n",
      "    },\n",
      "    {\n",
      "        \"page_content\": \"\\u00ef\\u00bb\\u00bfEvent Name or Other Category: Making GenAI Assisted Work a Reality\\nHost Team: Events\\nSpeaker: Robert Gates; Dave Carlson; Matthew Roberts\\nLocation: TBD\\nEvent Category/Type: Breakout\\nDate: 5/21/2024\\nTime start: 12:00:00 PM\\nTime end: 1:00:00 PM\",\n",
      "        \"metadata\": {\n",
      "            \"row\": 114,\n",
      "            \"source\": \"csv-files/events-schedule-dtw24.csv\"\n",
      "        }\n",
      "    }\n",
      "]\n"
     ]
    },
    {
     "name": "stderr",
     "output_type": "stream",
     "text": [
      "Setting `pad_token_id` to `eos_token_id`:2 for open-end generation.\n",
      "Setting `pad_token_id` to `eos_token_id`:2 for open-end generation.\n",
      "Traceback (most recent call last):\n",
      "  File \"/home/demo/miniconda3/envs/rag/lib/python3.10/site-packages/gradio/queueing.py\", line 527, in process_events\n",
      "    response = await route_utils.call_process_api(\n",
      "  File \"/home/demo/miniconda3/envs/rag/lib/python3.10/site-packages/gradio/route_utils.py\", line 261, in call_process_api\n",
      "    output = await app.get_blocks().process_api(\n",
      "  File \"/home/demo/miniconda3/envs/rag/lib/python3.10/site-packages/gradio/blocks.py\", line 1788, in process_api\n",
      "    result = await self.call_function(\n",
      "  File \"/home/demo/miniconda3/envs/rag/lib/python3.10/site-packages/gradio/blocks.py\", line 1340, in call_function\n",
      "    prediction = await anyio.to_thread.run_sync(\n",
      "  File \"/home/demo/miniconda3/envs/rag/lib/python3.10/site-packages/anyio/to_thread.py\", line 33, in run_sync\n",
      "    return await get_asynclib().run_sync_in_worker_thread(\n",
      "  File \"/home/demo/miniconda3/envs/rag/lib/python3.10/site-packages/anyio/_backends/_asyncio.py\", line 877, in run_sync_in_worker_thread\n",
      "    return await future\n",
      "  File \"/home/demo/miniconda3/envs/rag/lib/python3.10/site-packages/anyio/_backends/_asyncio.py\", line 807, in run\n",
      "    result = context.run(func, *args)\n",
      "  File \"/home/demo/miniconda3/envs/rag/lib/python3.10/site-packages/gradio/utils.py\", line 759, in wrapper\n",
      "    response = f(*args, **kwargs)\n",
      "  File \"/tmp/ipykernel_6832/2251314477.py\", line 4, in get_sources\n",
      "    \"answer_from_llm\": response[\"result\"],   ### looks up result key from raw output\n",
      "KeyError: 'result'\n",
      "Setting `pad_token_id` to `eos_token_id`:2 for open-end generation.\n"
     ]
    },
    {
     "name": "stdout",
     "output_type": "stream",
     "text": [
      "\n",
      "\n",
      "\u001b[1m> Entering new RetrievalQA chain...\u001b[0m\n",
      "\n",
      "\u001b[1m> Finished chain.\u001b[0m\n",
      "[\n",
      "    {\n",
      "        \"page_content\": \"\\u00ef\\u00bb\\u00bfEvent Name or Other Category: Understanding GenAI as a workload in a multicloud world\\nHost Team: Events\\nSpeaker: Nick Brackney;Dave Buffo\\nLocation: Foyer Space\\nEvent Category/Type: Birds of a Feather\\nDate: 5/20/2024\\nTime start: 12:00:00 PM\\nTime end: 1:00:00 PM\",\n",
      "        \"metadata\": {\n",
      "            \"row\": 100,\n",
      "            \"source\": \"csv-files/events-schedule-dtw24.csv\"\n",
      "        }\n",
      "    },\n",
      "    {\n",
      "        \"page_content\": \"\\u00ef\\u00bb\\u00bfEvent Name or Other Category: Build a scalable infrastructure to support your GenAI use cases\\nHost Team: Events\\nSpeaker: Helen O'Sullivan;Paul Wynne;Anthony Quigney\\nLocation: Lando 4203-4304\\nEvent Category/Type: Ask the Expert\\nDate: 5/20/2024\\nTime start: 1:30:00 AM\\nTime end: 2:30:00 AM\",\n",
      "        \"metadata\": {\n",
      "            \"row\": 81,\n",
      "            \"source\": \"csv-files/events-schedule-dtw24.csv\"\n",
      "        }\n",
      "    },\n",
      "    {\n",
      "        \"page_content\": \"\\u00ef\\u00bb\\u00bfEvent Name or Other Category: Running GenAI on premises, at scale\\nHost Team: Events\\nSpeaker: Karl Owen;Sanjeev Sharma;Anshul Ramachandran\\nLocation: Foyer Space\\nEvent Category/Type: Birds of a Feather\\nDate: 5/20/2024\\nTime start: 1:30:00 AM\\nTime end: 2:30:00 AM\",\n",
      "        \"metadata\": {\n",
      "            \"row\": 99,\n",
      "            \"source\": \"csv-files/events-schedule-dtw24.csv\"\n",
      "        }\n",
      "    }\n",
      "]\n"
     ]
    },
    {
     "name": "stderr",
     "output_type": "stream",
     "text": [
      "Setting `pad_token_id` to `eos_token_id`:2 for open-end generation.\n",
      "Traceback (most recent call last):\n",
      "  File \"/home/demo/miniconda3/envs/rag/lib/python3.10/site-packages/gradio/queueing.py\", line 527, in process_events\n",
      "    response = await route_utils.call_process_api(\n",
      "  File \"/home/demo/miniconda3/envs/rag/lib/python3.10/site-packages/gradio/route_utils.py\", line 261, in call_process_api\n",
      "    output = await app.get_blocks().process_api(\n",
      "  File \"/home/demo/miniconda3/envs/rag/lib/python3.10/site-packages/gradio/blocks.py\", line 1788, in process_api\n",
      "    result = await self.call_function(\n",
      "  File \"/home/demo/miniconda3/envs/rag/lib/python3.10/site-packages/gradio/blocks.py\", line 1340, in call_function\n",
      "    prediction = await anyio.to_thread.run_sync(\n",
      "  File \"/home/demo/miniconda3/envs/rag/lib/python3.10/site-packages/anyio/to_thread.py\", line 33, in run_sync\n",
      "    return await get_asynclib().run_sync_in_worker_thread(\n",
      "  File \"/home/demo/miniconda3/envs/rag/lib/python3.10/site-packages/anyio/_backends/_asyncio.py\", line 877, in run_sync_in_worker_thread\n",
      "    return await future\n",
      "  File \"/home/demo/miniconda3/envs/rag/lib/python3.10/site-packages/anyio/_backends/_asyncio.py\", line 807, in run\n",
      "    result = context.run(func, *args)\n",
      "  File \"/home/demo/miniconda3/envs/rag/lib/python3.10/site-packages/gradio/utils.py\", line 759, in wrapper\n",
      "    response = f(*args, **kwargs)\n",
      "  File \"/tmp/ipykernel_6832/2251314477.py\", line 4, in get_sources\n",
      "    \"answer_from_llm\": response[\"result\"],   ### looks up result key from raw output\n",
      "KeyError: 'result'\n",
      "Setting `pad_token_id` to `eos_token_id`:2 for open-end generation.\n"
     ]
    },
    {
     "name": "stdout",
     "output_type": "stream",
     "text": [
      "\n",
      "\n",
      "\u001b[1m> Entering new RetrievalQA chain...\u001b[0m\n",
      "\n",
      "\u001b[1m> Finished chain.\u001b[0m\n",
      "[\n",
      "    {\n",
      "        \"page_content\": \"the entire server management lifecycle, in addition to comprehensive monitoring of health status, statistics, connectivity, and\\nsystem performance utilization.\\nIn addition, proactive resilience is built into each PowerEdge server by design to protect, detect, and recover from cyberattacks\\n\\u2014ensuring security from build to delivery to retirement.\\nBased on these three pillars, PowerEdge servers are designed to address customers' most challenging workloads, working\\nautonomously and collaboratively across all of their IT environments.\\nPowerEdge hardware\\nThe Dell PowerEdge product line offers third- and fourth-generation Intel Xeon scalable processors and are built for challenging\\nenvironments, including energy, manufacturing, telecommunications, and retail. Some of the available configurations are\\nruggedized, MIL-STD, NEBS, and marine compliant. More configurations offer a full-featured enterprise server, designed to\\noptimize and deliver outstanding performance for the most demanding workloads. Each server node includes the following\\ntechnology:\\n\\u25cfSingle and dual Intel Xeon scalable Gen 3 and Gen 4 processors, with up to 56 cores per processor\\n\\u25cfMemory capacity ranging from 128 GB to 8 TB per node, depending on the model\\n\\u25cfA PCIe SAS disk drive controller supporting 12 GB SAS speeds, if applicable\\n\\u25cfA mirrored pair of BOSS SATA M.2 cards used to boot VMware ESXi on the node\\n\\u25cbBOSS cards are not included in the IEC 61850-3 certified XR12 configuration for substations.\\n\\u25cfDual or quad 10 GbE or 25 GbE Network Daughter Cards (10 GbE can autonegotiate to 1 GbE)\\nA brief overview of each PowerEdge platform discussed in this solution is provided in the following sections. For more\\ninformation, see the Dell Servers  page.\\nDell PowerEdge XR12\\nThe Dell PowerEdge XR12 is recommended for processing and analyzing data locally at the edge. It offers third-generation Intel\\nXeon scalable processors and is built for challenging environments, including manufacturing, telecommunications, and energy.\\nThe XR12 is a ruggedized MIL-STD, NEBS, and marine compliant single-socket 2U server with support for up to two GPU cards.\\nFigure 3. Dell PowerEdge XR12\\nDell PowerEdge R660\\nThe Dell PowerEdge R660 is a 1U, dual-CPU rackmount server based on Intel's fourth-generation Xeon processors. Its robust\\nperformance and reliability make it well suited for a variety of workloads, including general purpose compute needs in energy\\ncontrol centers. It offers a range of configurations to cater to different performance requirements.\\nFigure 4. Dell PowerEdge R660\\nArchitecture 11\",\n",
      "        \"metadata\": {\n",
      "            \"page\": 10,\n",
      "            \"source\": \"pdf-files-infohub/h19725-dvd-for-energy-edge-dg.pdf\"\n",
      "        }\n",
      "    },\n",
      "    {\n",
      "        \"page_content\": \"Accelerate I/O with NVMe drives \\non the new Dell EMC PowerEdge \\nR650\\u00a0server \\nA new controller that supports NVMe RAID \\nallowed the server to deliver up to 15 times the \\ninput/output operations per second (IOPS) of a \\nprevious\\u2011generation\\u00a0server\\nUpgrading to new servers is a good way for organizations to get \\nperformance improvements that meet growing operational demands. \\nThe latest-generation Dell EMC PowerEdge R650 can boost IOPS \\nperformance with a new redundant array of independent disks (RAID) \\ncontroller that can use speedy NVMe\\u2122 PCIe\\u00ae Gen4 storage. \\nWe tested a new Dell EMC PowerEdge R650 server with NVMe PCIe \\nGen4 SSDs and powered by pre-production 3rd Gen Intel\\u00ae Xeon\\u00ae \\nScalable processors with 32 cores and found that, as anticipated, it \\ndelivered more IOPS than a previous-generation Dell EMC PowerEdge \\nR640 server. The IOPS increase is due partially to the new, unique \\nDell PERC H755N Front RAID controller, which allows the server to \\naccess high-performance NVMe storage with a redundant hardware \\narchitecture. Until now, the only way to provide data protection for \\nNVMe RAID was to use software RAID. \\nWe also found that the PowerEdge R650 with NVMe SSDs transferred \\nmore data per second from the CPUs to the disks than the previous-\\ngeneration server. Processing more IOPS and providing greater disk \\nbandwidth, due to the combination of a new RAID controller and \\nsupport for NVMe PCIe Gen4 storage, could allow your organization \\nto support more users and greater application usage.\\nDell EMC\\u2122 PowerEdge\\u2122 studies\\nTransfer more data \\nfrom the CPUs to \\nstorage at once\\nUp to 15X  \\nmore MB/s*Upgrade servers and \\nstorage to process more \\nuser requests\\nUp to 15X  \\nthe raw IOPS*  \\n* than Dell EMC PowerEdge R640  \\nwith SAS/SATA SSDs\\nAccelerate I/O with NVMe drives on the new Dell EMC PowerEdge R650 server March 2021\\nA Principled Technologies report: Hands-on testing. Real-world results.\",\n",
      "        \"metadata\": {\n",
      "            \"page\": 0,\n",
      "            \"source\": \"pdf-files-infohub/poweredge-r650-vs-previous-generation-iops.pdf\"\n",
      "        }\n",
      "    },\n",
      "    {\n",
      "        \"page_content\": \"12 Dell EMC Network ing \\u2013 PowerEdge MX7000 vSAN Ready Node Deployment Guide  \\n \\n \\n Dell EMC PowerEdge MX5016s sled with the drive bay extended\",\n",
      "        \"metadata\": {\n",
      "            \"page\": 11,\n",
      "            \"source\": \"pdf-files-infohub/poweredge-mx7000_Deployment-Guide_en-us.pdf\"\n",
      "        }\n",
      "    }\n",
      "]\n"
     ]
    },
    {
     "name": "stderr",
     "output_type": "stream",
     "text": [
      "Setting `pad_token_id` to `eos_token_id`:2 for open-end generation.\n"
     ]
    },
    {
     "name": "stdout",
     "output_type": "stream",
     "text": [
      "\n",
      "\n",
      "\u001b[1m> Entering new RetrievalQA chain...\u001b[0m\n",
      "\n",
      "\u001b[1m> Finished chain.\u001b[0m\n",
      "Keyboard interruption in main thread... closing server.\n"
     ]
    }
   ],
   "source": [
    "if __name__ == \"__main__\":\n",
    "    demo.queue(max_size=5)  ## sets up websockets for bidirectional comms and no timeouts, set a max number users in queue\n",
    "    demo.launch(share=False, debug=True, server_name=\"localhost\", server_port=7860, allowed_paths=[\"images/dell-logo-sm.jpg\"])"
   ]
  },
  {
   "cell_type": "markdown",
   "id": "2905fc4e-627e-4e2e-aa3b-7731f9bc3d1c",
   "metadata": {},
   "source": [
    "### Inspiration code:\n",
    "\n",
    "https://huggingface.co/spaces/huggingface-projects/llama-2-7b-chat <br>"
   ]
  },
  {
   "cell_type": "markdown",
   "id": "d0431b95-7718-4831-bccb-a37f456efb2b",
   "metadata": {},
   "source": [
    "### Author:\n",
    "David O'Dell - Solutions and AI Tech Marketing Engineer"
   ]
  },
  {
   "cell_type": "code",
   "execution_count": 39,
   "id": "85e49b85-5d9c-40ef-82cc-6c7f578695be",
   "metadata": {},
   "outputs": [],
   "source": [
    "# !conda env export --name rag | grep -v \"^prefix: \""
   ]
  },
  {
   "cell_type": "code",
   "execution_count": null,
   "id": "77c817cd-7b90-41f5-9902-6b32bc497379",
   "metadata": {},
   "outputs": [],
   "source": []
  }
 ],
 "metadata": {
  "kernelspec": {
   "display_name": "Python 3 (ipykernel)",
   "language": "python",
   "name": "python3"
  },
  "language_info": {
   "codemirror_mode": {
    "name": "ipython",
    "version": 3
   },
   "file_extension": ".py",
   "mimetype": "text/x-python",
   "name": "python",
   "nbconvert_exporter": "python",
   "pygments_lexer": "ipython3",
   "version": "3.12.7"
  }
 },
 "nbformat": 4,
 "nbformat_minor": 5
}
